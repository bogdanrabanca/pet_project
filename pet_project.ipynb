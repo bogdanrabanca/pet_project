{
 "cells": [
  {
   "cell_type": "markdown",
   "metadata": {},
   "source": [
    "## Assessing and Cleaning the Data\n",
    "\n",
    "I start by importing the dog dataset and doing some quick cleaning. \n"
   ]
  },
  {
   "cell_type": "code",
   "execution_count": 130,
   "metadata": {},
   "outputs": [],
   "source": [
    "import pandas as pd\n",
    "import numpy as np\n",
    "df=pd.read_csv('https://data.cityofnewyork.us/resource/nu7n-tubp.csv?$limit=130000')"
   ]
  },
  {
   "cell_type": "code",
   "execution_count": 131,
   "metadata": {},
   "outputs": [
    {
     "data": {
      "text/html": [
       "<div>\n",
       "<style scoped>\n",
       "    .dataframe tbody tr th:only-of-type {\n",
       "        vertical-align: middle;\n",
       "    }\n",
       "\n",
       "    .dataframe tbody tr th {\n",
       "        vertical-align: top;\n",
       "    }\n",
       "\n",
       "    .dataframe thead th {\n",
       "        text-align: right;\n",
       "    }\n",
       "</style>\n",
       "<table border=\"1\" class=\"dataframe\">\n",
       "  <thead>\n",
       "    <tr style=\"text-align: right;\">\n",
       "      <th></th>\n",
       "      <th>rownumber</th>\n",
       "      <th>animalname</th>\n",
       "      <th>animalgender</th>\n",
       "      <th>animalbirth</th>\n",
       "      <th>breedname</th>\n",
       "      <th>borough</th>\n",
       "      <th>zipcode</th>\n",
       "      <th>communitydistrict</th>\n",
       "      <th>censustract2010</th>\n",
       "      <th>nta</th>\n",
       "      <th>citycouncildistrict</th>\n",
       "      <th>congressionaldistrict</th>\n",
       "      <th>statesenatorialdistrict</th>\n",
       "      <th>licenseissueddate</th>\n",
       "      <th>licenseexpireddate</th>\n",
       "    </tr>\n",
       "  </thead>\n",
       "  <tbody>\n",
       "    <tr>\n",
       "      <th>0</th>\n",
       "      <td>533</td>\n",
       "      <td>BONITA</td>\n",
       "      <td>F</td>\n",
       "      <td>2013-05-01T00:00:00.000</td>\n",
       "      <td>Unknown</td>\n",
       "      <td>Queens</td>\n",
       "      <td>11435.0</td>\n",
       "      <td>412.0</td>\n",
       "      <td>208.0</td>\n",
       "      <td>QN61</td>\n",
       "      <td>28.0</td>\n",
       "      <td>5.0</td>\n",
       "      <td>10.0</td>\n",
       "      <td>2014-10-24T00:00:00.000</td>\n",
       "      <td>2017-11-15T00:00:00.000</td>\n",
       "    </tr>\n",
       "    <tr>\n",
       "      <th>1</th>\n",
       "      <td>548</td>\n",
       "      <td>ROCKY</td>\n",
       "      <td>M</td>\n",
       "      <td>2014-05-01T00:00:00.000</td>\n",
       "      <td>Labrador Retriever Crossbreed</td>\n",
       "      <td>Queens</td>\n",
       "      <td>11691.0</td>\n",
       "      <td>414.0</td>\n",
       "      <td>100801.0</td>\n",
       "      <td>QN15</td>\n",
       "      <td>31.0</td>\n",
       "      <td>5.0</td>\n",
       "      <td>10.0</td>\n",
       "      <td>2014-10-25T00:00:00.000</td>\n",
       "      <td>2019-10-25T00:00:00.000</td>\n",
       "    </tr>\n",
       "    <tr>\n",
       "      <th>2</th>\n",
       "      <td>622</td>\n",
       "      <td>BULLY</td>\n",
       "      <td>M</td>\n",
       "      <td>2010-07-01T00:00:00.000</td>\n",
       "      <td>American Pit Bull Terrier/Pit Bull</td>\n",
       "      <td>Queens</td>\n",
       "      <td>11419.0</td>\n",
       "      <td>410.0</td>\n",
       "      <td>98.0</td>\n",
       "      <td>QN55</td>\n",
       "      <td>28.0</td>\n",
       "      <td>5.0</td>\n",
       "      <td>10.0</td>\n",
       "      <td>2014-10-28T00:00:00.000</td>\n",
       "      <td>2016-09-24T00:00:00.000</td>\n",
       "    </tr>\n",
       "    <tr>\n",
       "      <th>3</th>\n",
       "      <td>633</td>\n",
       "      <td>COCO</td>\n",
       "      <td>M</td>\n",
       "      <td>2005-02-01T00:00:00.000</td>\n",
       "      <td>Labrador Retriever</td>\n",
       "      <td>Queens</td>\n",
       "      <td>11692.0</td>\n",
       "      <td>414.0</td>\n",
       "      <td>964.0</td>\n",
       "      <td>QN12</td>\n",
       "      <td>31.0</td>\n",
       "      <td>5.0</td>\n",
       "      <td>10.0</td>\n",
       "      <td>2014-10-29T00:00:00.000</td>\n",
       "      <td>2017-10-29T00:00:00.000</td>\n",
       "    </tr>\n",
       "    <tr>\n",
       "      <th>4</th>\n",
       "      <td>655</td>\n",
       "      <td>SKI</td>\n",
       "      <td>F</td>\n",
       "      <td>2012-09-01T00:00:00.000</td>\n",
       "      <td>American Pit Bull Terrier/Pit Bull</td>\n",
       "      <td>Queens</td>\n",
       "      <td>11691.0</td>\n",
       "      <td>414.0</td>\n",
       "      <td>100802.0</td>\n",
       "      <td>QN15</td>\n",
       "      <td>31.0</td>\n",
       "      <td>5.0</td>\n",
       "      <td>10.0</td>\n",
       "      <td>2014-10-31T00:00:00.000</td>\n",
       "      <td>2019-10-31T00:00:00.000</td>\n",
       "    </tr>\n",
       "  </tbody>\n",
       "</table>\n",
       "</div>"
      ],
      "text/plain": [
       "   rownumber animalname animalgender              animalbirth  \\\n",
       "0        533    BONITA             F  2013-05-01T00:00:00.000   \n",
       "1        548      ROCKY            M  2014-05-01T00:00:00.000   \n",
       "2        622      BULLY            M  2010-07-01T00:00:00.000   \n",
       "3        633      COCO             M  2005-02-01T00:00:00.000   \n",
       "4        655       SKI             F  2012-09-01T00:00:00.000   \n",
       "\n",
       "                            breedname borough  zipcode  communitydistrict  \\\n",
       "0                             Unknown  Queens  11435.0              412.0   \n",
       "1       Labrador Retriever Crossbreed  Queens  11691.0              414.0   \n",
       "2  American Pit Bull Terrier/Pit Bull  Queens  11419.0              410.0   \n",
       "3                  Labrador Retriever  Queens  11692.0              414.0   \n",
       "4  American Pit Bull Terrier/Pit Bull  Queens  11691.0              414.0   \n",
       "\n",
       "   censustract2010   nta  citycouncildistrict  congressionaldistrict  \\\n",
       "0            208.0  QN61                 28.0                    5.0   \n",
       "1         100801.0  QN15                 31.0                    5.0   \n",
       "2             98.0  QN55                 28.0                    5.0   \n",
       "3            964.0  QN12                 31.0                    5.0   \n",
       "4         100802.0  QN15                 31.0                    5.0   \n",
       "\n",
       "   statesenatorialdistrict        licenseissueddate       licenseexpireddate  \n",
       "0                     10.0  2014-10-24T00:00:00.000  2017-11-15T00:00:00.000  \n",
       "1                     10.0  2014-10-25T00:00:00.000  2019-10-25T00:00:00.000  \n",
       "2                     10.0  2014-10-28T00:00:00.000  2016-09-24T00:00:00.000  \n",
       "3                     10.0  2014-10-29T00:00:00.000  2017-10-29T00:00:00.000  \n",
       "4                     10.0  2014-10-31T00:00:00.000  2019-10-31T00:00:00.000  "
      ]
     },
     "execution_count": 131,
     "metadata": {},
     "output_type": "execute_result"
    }
   ],
   "source": [
    "df.head()"
   ]
  },
  {
   "cell_type": "code",
   "execution_count": 132,
   "metadata": {},
   "outputs": [
    {
     "data": {
      "text/plain": [
       "(121949, 15)"
      ]
     },
     "execution_count": 132,
     "metadata": {},
     "output_type": "execute_result"
    }
   ],
   "source": [
    "df.shape"
   ]
  },
  {
   "cell_type": "markdown",
   "metadata": {},
   "source": [
    "There are some columns that I won't use for this project, so I drop them."
   ]
  },
  {
   "cell_type": "code",
   "execution_count": 133,
   "metadata": {},
   "outputs": [],
   "source": [
    "df.drop(columns=['communitydistrict','censustract2010','citycouncildistrict','congressionaldistrict',\n",
    "                'statesenatorialdistrict'],inplace=True)"
   ]
  },
  {
   "cell_type": "markdown",
   "metadata": {},
   "source": [
    "Next I rename some of the columns."
   ]
  },
  {
   "cell_type": "code",
   "execution_count": 134,
   "metadata": {},
   "outputs": [],
   "source": [
    "df.rename(columns={'animalname':'name','animalgender':'sex','animalbirth':'birth_date',\n",
    "                   'breedname':'breed_name','licenseissueddate':'issued','licenseexpireddate':'expired'},inplace=True)"
   ]
  },
  {
   "cell_type": "code",
   "execution_count": 135,
   "metadata": {},
   "outputs": [
    {
     "data": {
      "text/html": [
       "<div>\n",
       "<style scoped>\n",
       "    .dataframe tbody tr th:only-of-type {\n",
       "        vertical-align: middle;\n",
       "    }\n",
       "\n",
       "    .dataframe tbody tr th {\n",
       "        vertical-align: top;\n",
       "    }\n",
       "\n",
       "    .dataframe thead th {\n",
       "        text-align: right;\n",
       "    }\n",
       "</style>\n",
       "<table border=\"1\" class=\"dataframe\">\n",
       "  <thead>\n",
       "    <tr style=\"text-align: right;\">\n",
       "      <th></th>\n",
       "      <th>rownumber</th>\n",
       "      <th>name</th>\n",
       "      <th>sex</th>\n",
       "      <th>birth_date</th>\n",
       "      <th>breed_name</th>\n",
       "      <th>borough</th>\n",
       "      <th>zipcode</th>\n",
       "      <th>nta</th>\n",
       "      <th>issued</th>\n",
       "      <th>expired</th>\n",
       "    </tr>\n",
       "  </thead>\n",
       "  <tbody>\n",
       "    <tr>\n",
       "      <th>0</th>\n",
       "      <td>533</td>\n",
       "      <td>BONITA</td>\n",
       "      <td>F</td>\n",
       "      <td>2013-05-01T00:00:00.000</td>\n",
       "      <td>Unknown</td>\n",
       "      <td>Queens</td>\n",
       "      <td>11435.0</td>\n",
       "      <td>QN61</td>\n",
       "      <td>2014-10-24T00:00:00.000</td>\n",
       "      <td>2017-11-15T00:00:00.000</td>\n",
       "    </tr>\n",
       "    <tr>\n",
       "      <th>1</th>\n",
       "      <td>548</td>\n",
       "      <td>ROCKY</td>\n",
       "      <td>M</td>\n",
       "      <td>2014-05-01T00:00:00.000</td>\n",
       "      <td>Labrador Retriever Crossbreed</td>\n",
       "      <td>Queens</td>\n",
       "      <td>11691.0</td>\n",
       "      <td>QN15</td>\n",
       "      <td>2014-10-25T00:00:00.000</td>\n",
       "      <td>2019-10-25T00:00:00.000</td>\n",
       "    </tr>\n",
       "    <tr>\n",
       "      <th>2</th>\n",
       "      <td>622</td>\n",
       "      <td>BULLY</td>\n",
       "      <td>M</td>\n",
       "      <td>2010-07-01T00:00:00.000</td>\n",
       "      <td>American Pit Bull Terrier/Pit Bull</td>\n",
       "      <td>Queens</td>\n",
       "      <td>11419.0</td>\n",
       "      <td>QN55</td>\n",
       "      <td>2014-10-28T00:00:00.000</td>\n",
       "      <td>2016-09-24T00:00:00.000</td>\n",
       "    </tr>\n",
       "    <tr>\n",
       "      <th>3</th>\n",
       "      <td>633</td>\n",
       "      <td>COCO</td>\n",
       "      <td>M</td>\n",
       "      <td>2005-02-01T00:00:00.000</td>\n",
       "      <td>Labrador Retriever</td>\n",
       "      <td>Queens</td>\n",
       "      <td>11692.0</td>\n",
       "      <td>QN12</td>\n",
       "      <td>2014-10-29T00:00:00.000</td>\n",
       "      <td>2017-10-29T00:00:00.000</td>\n",
       "    </tr>\n",
       "    <tr>\n",
       "      <th>4</th>\n",
       "      <td>655</td>\n",
       "      <td>SKI</td>\n",
       "      <td>F</td>\n",
       "      <td>2012-09-01T00:00:00.000</td>\n",
       "      <td>American Pit Bull Terrier/Pit Bull</td>\n",
       "      <td>Queens</td>\n",
       "      <td>11691.0</td>\n",
       "      <td>QN15</td>\n",
       "      <td>2014-10-31T00:00:00.000</td>\n",
       "      <td>2019-10-31T00:00:00.000</td>\n",
       "    </tr>\n",
       "  </tbody>\n",
       "</table>\n",
       "</div>"
      ],
      "text/plain": [
       "   rownumber     name sex               birth_date  \\\n",
       "0        533  BONITA    F  2013-05-01T00:00:00.000   \n",
       "1        548    ROCKY   M  2014-05-01T00:00:00.000   \n",
       "2        622    BULLY   M  2010-07-01T00:00:00.000   \n",
       "3        633    COCO    M  2005-02-01T00:00:00.000   \n",
       "4        655     SKI    F  2012-09-01T00:00:00.000   \n",
       "\n",
       "                           breed_name borough  zipcode   nta  \\\n",
       "0                             Unknown  Queens  11435.0  QN61   \n",
       "1       Labrador Retriever Crossbreed  Queens  11691.0  QN15   \n",
       "2  American Pit Bull Terrier/Pit Bull  Queens  11419.0  QN55   \n",
       "3                  Labrador Retriever  Queens  11692.0  QN12   \n",
       "4  American Pit Bull Terrier/Pit Bull  Queens  11691.0  QN15   \n",
       "\n",
       "                    issued                  expired  \n",
       "0  2014-10-24T00:00:00.000  2017-11-15T00:00:00.000  \n",
       "1  2014-10-25T00:00:00.000  2019-10-25T00:00:00.000  \n",
       "2  2014-10-28T00:00:00.000  2016-09-24T00:00:00.000  \n",
       "3  2014-10-29T00:00:00.000  2017-10-29T00:00:00.000  \n",
       "4  2014-10-31T00:00:00.000  2019-10-31T00:00:00.000  "
      ]
     },
     "execution_count": 135,
     "metadata": {},
     "output_type": "execute_result"
    }
   ],
   "source": [
    "df.head()"
   ]
  },
  {
   "cell_type": "code",
   "execution_count": 136,
   "metadata": {},
   "outputs": [
    {
     "data": {
      "text/plain": [
       "rownumber       int64\n",
       "name           object\n",
       "sex            object\n",
       "birth_date     object\n",
       "breed_name     object\n",
       "borough        object\n",
       "zipcode       float64\n",
       "nta            object\n",
       "issued         object\n",
       "expired        object\n",
       "dtype: object"
      ]
     },
     "execution_count": 136,
     "metadata": {},
     "output_type": "execute_result"
    }
   ],
   "source": [
    "df.dtypes"
   ]
  },
  {
   "cell_type": "markdown",
   "metadata": {},
   "source": [
    "I change the 'zip' column type to string, and the date columns to date type. I also create a 'birth_year' column. "
   ]
  },
  {
   "cell_type": "code",
   "execution_count": 137,
   "metadata": {},
   "outputs": [],
   "source": [
    "#change date columns to datetime\n",
    "df['birth_date']=pd.to_datetime(df['birth_date'])\n",
    "df['issued']=pd.to_datetime(df['issued'])\n",
    "df['expired']=pd.to_datetime(df['expired'])\n",
    "\n",
    "#change zip column from float to string\n",
    "df['zipcode']=df.zipcode.fillna(0).astype(int)\n",
    "df['zipcode']=df.zipcode.astype(str)\n",
    "\n",
    "#create birth_year column\n",
    "df['birth_year']=df['birth_date'].dt.year\n",
    "df['birth_year']=df.birth_year.fillna(0).astype(int)"
   ]
  },
  {
   "cell_type": "markdown",
   "metadata": {},
   "source": [
    "I next look at nan values. "
   ]
  },
  {
   "cell_type": "code",
   "execution_count": 138,
   "metadata": {},
   "outputs": [
    {
     "name": "stdout",
     "output_type": "stream",
     "text": [
      "<class 'pandas.core.frame.DataFrame'>\n",
      "RangeIndex: 121949 entries, 0 to 121948\n",
      "Data columns (total 11 columns):\n",
      "rownumber     121949 non-null int64\n",
      "name          121714 non-null object\n",
      "sex           121948 non-null object\n",
      "birth_date    121948 non-null datetime64[ns]\n",
      "breed_name    121948 non-null object\n",
      "borough       121948 non-null object\n",
      "zipcode       121949 non-null object\n",
      "nta           118612 non-null object\n",
      "issued        121948 non-null datetime64[ns]\n",
      "expired       121948 non-null datetime64[ns]\n",
      "birth_year    121949 non-null int32\n",
      "dtypes: datetime64[ns](3), int32(1), int64(1), object(6)\n",
      "memory usage: 9.8+ MB\n"
     ]
    }
   ],
   "source": [
    "df.info()"
   ]
  },
  {
   "cell_type": "markdown",
   "metadata": {},
   "source": [
    "It looks like 'name' and 'nta' (neighborhood code) is missing from some rows. Also there seems to be one row with a lot of missing values. Let's look at a small sample of each of these. "
   ]
  },
  {
   "cell_type": "code",
   "execution_count": 139,
   "metadata": {},
   "outputs": [
    {
     "data": {
      "text/html": [
       "<div>\n",
       "<style scoped>\n",
       "    .dataframe tbody tr th:only-of-type {\n",
       "        vertical-align: middle;\n",
       "    }\n",
       "\n",
       "    .dataframe tbody tr th {\n",
       "        vertical-align: top;\n",
       "    }\n",
       "\n",
       "    .dataframe thead th {\n",
       "        text-align: right;\n",
       "    }\n",
       "</style>\n",
       "<table border=\"1\" class=\"dataframe\">\n",
       "  <thead>\n",
       "    <tr style=\"text-align: right;\">\n",
       "      <th></th>\n",
       "      <th>rownumber</th>\n",
       "      <th>name</th>\n",
       "      <th>sex</th>\n",
       "      <th>birth_date</th>\n",
       "      <th>breed_name</th>\n",
       "      <th>borough</th>\n",
       "      <th>zipcode</th>\n",
       "      <th>nta</th>\n",
       "      <th>issued</th>\n",
       "      <th>expired</th>\n",
       "      <th>birth_year</th>\n",
       "    </tr>\n",
       "  </thead>\n",
       "  <tbody>\n",
       "    <tr>\n",
       "      <th>118612</th>\n",
       "      <td>51790</td>\n",
       "      <td>BLU \\tM\\t10/01/2015\\t1\\tMaltese\\tBronx\\t10473\\...</td>\n",
       "      <td>NaN</td>\n",
       "      <td>NaT</td>\n",
       "      <td>NaN</td>\n",
       "      <td>NaN</td>\n",
       "      <td>0</td>\n",
       "      <td>NaN</td>\n",
       "      <td>NaT</td>\n",
       "      <td>NaT</td>\n",
       "      <td>0</td>\n",
       "    </tr>\n",
       "  </tbody>\n",
       "</table>\n",
       "</div>"
      ],
      "text/plain": [
       "        rownumber                                               name  sex  \\\n",
       "118612      51790  BLU \\tM\\t10/01/2015\\t1\\tMaltese\\tBronx\\t10473\\...  NaN   \n",
       "\n",
       "       birth_date breed_name borough zipcode  nta issued expired  birth_year  \n",
       "118612        NaT        NaN     NaN       0  NaN    NaT     NaT           0  "
      ]
     },
     "execution_count": 139,
     "metadata": {},
     "output_type": "execute_result"
    }
   ],
   "source": [
    "df[pd.isna(df['sex'])]"
   ]
  },
  {
   "cell_type": "markdown",
   "metadata": {},
   "source": [
    "This row contains invalid data so I drop it."
   ]
  },
  {
   "cell_type": "code",
   "execution_count": 140,
   "metadata": {},
   "outputs": [],
   "source": [
    "df=df.set_index('rownumber').drop(51790)"
   ]
  },
  {
   "cell_type": "code",
   "execution_count": 141,
   "metadata": {},
   "outputs": [
    {
     "data": {
      "text/html": [
       "<div>\n",
       "<style scoped>\n",
       "    .dataframe tbody tr th:only-of-type {\n",
       "        vertical-align: middle;\n",
       "    }\n",
       "\n",
       "    .dataframe tbody tr th {\n",
       "        vertical-align: top;\n",
       "    }\n",
       "\n",
       "    .dataframe thead th {\n",
       "        text-align: right;\n",
       "    }\n",
       "</style>\n",
       "<table border=\"1\" class=\"dataframe\">\n",
       "  <thead>\n",
       "    <tr style=\"text-align: right;\">\n",
       "      <th></th>\n",
       "      <th>name</th>\n",
       "      <th>sex</th>\n",
       "      <th>birth_date</th>\n",
       "      <th>breed_name</th>\n",
       "      <th>borough</th>\n",
       "      <th>zipcode</th>\n",
       "      <th>nta</th>\n",
       "      <th>issued</th>\n",
       "      <th>expired</th>\n",
       "      <th>birth_year</th>\n",
       "    </tr>\n",
       "    <tr>\n",
       "      <th>rownumber</th>\n",
       "      <th></th>\n",
       "      <th></th>\n",
       "      <th></th>\n",
       "      <th></th>\n",
       "      <th></th>\n",
       "      <th></th>\n",
       "      <th></th>\n",
       "      <th></th>\n",
       "      <th></th>\n",
       "      <th></th>\n",
       "    </tr>\n",
       "  </thead>\n",
       "  <tbody>\n",
       "    <tr>\n",
       "      <th>22959</th>\n",
       "      <td>NaN</td>\n",
       "      <td>M</td>\n",
       "      <td>2015-04-01</td>\n",
       "      <td>Shih Tzu</td>\n",
       "      <td>Queens</td>\n",
       "      <td>11692</td>\n",
       "      <td>QN12</td>\n",
       "      <td>2015-06-27</td>\n",
       "      <td>2016-06-27</td>\n",
       "      <td>2015</td>\n",
       "    </tr>\n",
       "    <tr>\n",
       "      <th>28539</th>\n",
       "      <td>NaN</td>\n",
       "      <td>F</td>\n",
       "      <td>2015-06-01</td>\n",
       "      <td>Yorkshire Terrier</td>\n",
       "      <td>Queens</td>\n",
       "      <td>11419</td>\n",
       "      <td>QN54</td>\n",
       "      <td>2015-08-10</td>\n",
       "      <td>2016-08-10</td>\n",
       "      <td>2015</td>\n",
       "    </tr>\n",
       "    <tr>\n",
       "      <th>35645</th>\n",
       "      <td>NaN</td>\n",
       "      <td>M</td>\n",
       "      <td>2015-08-01</td>\n",
       "      <td>Poodle Crossbreed</td>\n",
       "      <td>Queens</td>\n",
       "      <td>11419</td>\n",
       "      <td>QN55</td>\n",
       "      <td>2015-10-10</td>\n",
       "      <td>2016-10-10</td>\n",
       "      <td>2015</td>\n",
       "    </tr>\n",
       "    <tr>\n",
       "      <th>61731</th>\n",
       "      <td>NaN</td>\n",
       "      <td>M</td>\n",
       "      <td>2016-01-01</td>\n",
       "      <td>Siberian Husky</td>\n",
       "      <td>Queens</td>\n",
       "      <td>11419</td>\n",
       "      <td>QN54</td>\n",
       "      <td>2016-03-29</td>\n",
       "      <td>2017-03-29</td>\n",
       "      <td>2016</td>\n",
       "    </tr>\n",
       "    <tr>\n",
       "      <th>66832</th>\n",
       "      <td>NaN</td>\n",
       "      <td>M</td>\n",
       "      <td>2016-01-01</td>\n",
       "      <td>Maltese</td>\n",
       "      <td>Queens</td>\n",
       "      <td>11435</td>\n",
       "      <td>QN61</td>\n",
       "      <td>2016-04-19</td>\n",
       "      <td>2017-04-19</td>\n",
       "      <td>2016</td>\n",
       "    </tr>\n",
       "  </tbody>\n",
       "</table>\n",
       "</div>"
      ],
      "text/plain": [
       "          name sex birth_date         breed_name borough zipcode   nta  \\\n",
       "rownumber                                                                \n",
       "22959      NaN   M 2015-04-01           Shih Tzu  Queens   11692  QN12   \n",
       "28539      NaN   F 2015-06-01  Yorkshire Terrier  Queens   11419  QN54   \n",
       "35645      NaN   M 2015-08-01  Poodle Crossbreed  Queens   11419  QN55   \n",
       "61731      NaN   M 2016-01-01     Siberian Husky  Queens   11419  QN54   \n",
       "66832      NaN   M 2016-01-01            Maltese  Queens   11435  QN61   \n",
       "\n",
       "              issued    expired  birth_year  \n",
       "rownumber                                    \n",
       "22959     2015-06-27 2016-06-27        2015  \n",
       "28539     2015-08-10 2016-08-10        2015  \n",
       "35645     2015-10-10 2016-10-10        2015  \n",
       "61731     2016-03-29 2017-03-29        2016  \n",
       "66832     2016-04-19 2017-04-19        2016  "
      ]
     },
     "execution_count": 141,
     "metadata": {},
     "output_type": "execute_result"
    }
   ],
   "source": [
    "df[pd.isna(df['name'])].head()"
   ]
  },
  {
   "cell_type": "code",
   "execution_count": 142,
   "metadata": {},
   "outputs": [
    {
     "data": {
      "text/html": [
       "<div>\n",
       "<style scoped>\n",
       "    .dataframe tbody tr th:only-of-type {\n",
       "        vertical-align: middle;\n",
       "    }\n",
       "\n",
       "    .dataframe tbody tr th {\n",
       "        vertical-align: top;\n",
       "    }\n",
       "\n",
       "    .dataframe thead th {\n",
       "        text-align: right;\n",
       "    }\n",
       "</style>\n",
       "<table border=\"1\" class=\"dataframe\">\n",
       "  <thead>\n",
       "    <tr style=\"text-align: right;\">\n",
       "      <th></th>\n",
       "      <th>name</th>\n",
       "      <th>sex</th>\n",
       "      <th>birth_date</th>\n",
       "      <th>breed_name</th>\n",
       "      <th>borough</th>\n",
       "      <th>zipcode</th>\n",
       "      <th>nta</th>\n",
       "      <th>issued</th>\n",
       "      <th>expired</th>\n",
       "      <th>birth_year</th>\n",
       "    </tr>\n",
       "    <tr>\n",
       "      <th>rownumber</th>\n",
       "      <th></th>\n",
       "      <th></th>\n",
       "      <th></th>\n",
       "      <th></th>\n",
       "      <th></th>\n",
       "      <th></th>\n",
       "      <th></th>\n",
       "      <th></th>\n",
       "      <th></th>\n",
       "      <th></th>\n",
       "    </tr>\n",
       "  </thead>\n",
       "  <tbody>\n",
       "    <tr>\n",
       "      <th>6</th>\n",
       "      <td>ALI</td>\n",
       "      <td>M</td>\n",
       "      <td>2014-01-01</td>\n",
       "      <td>Basenji</td>\n",
       "      <td>Manhattan</td>\n",
       "      <td>10013</td>\n",
       "      <td>NaN</td>\n",
       "      <td>2014-09-12</td>\n",
       "      <td>2019-09-12</td>\n",
       "      <td>2014</td>\n",
       "    </tr>\n",
       "    <tr>\n",
       "      <th>37</th>\n",
       "      <td>JASMINE</td>\n",
       "      <td>F</td>\n",
       "      <td>2008-01-01</td>\n",
       "      <td>Unknown</td>\n",
       "      <td>Brooklyn</td>\n",
       "      <td>11209</td>\n",
       "      <td>NaN</td>\n",
       "      <td>2014-09-14</td>\n",
       "      <td>2017-10-28</td>\n",
       "      <td>2008</td>\n",
       "    </tr>\n",
       "    <tr>\n",
       "      <th>84</th>\n",
       "      <td>BRODY</td>\n",
       "      <td>M</td>\n",
       "      <td>2006-01-01</td>\n",
       "      <td>Cocker Spaniel</td>\n",
       "      <td>Manhattan</td>\n",
       "      <td>10035</td>\n",
       "      <td>NaN</td>\n",
       "      <td>2014-09-16</td>\n",
       "      <td>2016-09-16</td>\n",
       "      <td>2006</td>\n",
       "    </tr>\n",
       "    <tr>\n",
       "      <th>99</th>\n",
       "      <td>ACE</td>\n",
       "      <td>M</td>\n",
       "      <td>2005-01-01</td>\n",
       "      <td>Beagle</td>\n",
       "      <td>Manhattan</td>\n",
       "      <td>10001</td>\n",
       "      <td>NaN</td>\n",
       "      <td>2014-09-17</td>\n",
       "      <td>2016-10-31</td>\n",
       "      <td>2005</td>\n",
       "    </tr>\n",
       "    <tr>\n",
       "      <th>120</th>\n",
       "      <td>CAMPBELL</td>\n",
       "      <td>M</td>\n",
       "      <td>2014-05-01</td>\n",
       "      <td>Poodle</td>\n",
       "      <td>Manhattan</td>\n",
       "      <td>10128</td>\n",
       "      <td>NaN</td>\n",
       "      <td>2014-09-18</td>\n",
       "      <td>2016-09-18</td>\n",
       "      <td>2014</td>\n",
       "    </tr>\n",
       "  </tbody>\n",
       "</table>\n",
       "</div>"
      ],
      "text/plain": [
       "               name sex birth_date      breed_name    borough zipcode  nta  \\\n",
       "rownumber                                                                    \n",
       "6               ALI   M 2014-01-01         Basenji  Manhattan   10013  NaN   \n",
       "37          JASMINE   F 2008-01-01         Unknown   Brooklyn   11209  NaN   \n",
       "84            BRODY   M 2006-01-01  Cocker Spaniel  Manhattan   10035  NaN   \n",
       "99             ACE    M 2005-01-01          Beagle  Manhattan   10001  NaN   \n",
       "120        CAMPBELL   M 2014-05-01          Poodle  Manhattan   10128  NaN   \n",
       "\n",
       "              issued    expired  birth_year  \n",
       "rownumber                                    \n",
       "6         2014-09-12 2019-09-12        2014  \n",
       "37        2014-09-14 2017-10-28        2008  \n",
       "84        2014-09-16 2016-09-16        2006  \n",
       "99        2014-09-17 2016-10-31        2005  \n",
       "120       2014-09-18 2016-09-18        2014  "
      ]
     },
     "execution_count": 142,
     "metadata": {},
     "output_type": "execute_result"
    }
   ],
   "source": [
    "df[pd.isna(df['nta'])].head()"
   ]
  },
  {
   "cell_type": "markdown",
   "metadata": {},
   "source": [
    "These rows seem to contain valid data, so for now I don't need to worry about them. I'll filter them out when I calculate statistics for neighborhood and names.\n",
    "\n",
    "\n",
    "#### Duplicate dogs\n",
    "\n",
    "The data documentation makes clear that rows do not uniquely identify a dog. The same dog can appear on two multiple rows, depending on when their owner obtained a license for them. More specifically, if a dog's license expired in 2016, that dog will be listed twice: once with the old license (expiring in 2016) and once with the new license (issued in 2016). Indeed, as we can see below, there are cases when (most likely) the same dog appears on _three_ diffeent rows. "
   ]
  },
  {
   "cell_type": "code",
   "execution_count": 143,
   "metadata": {},
   "outputs": [
    {
     "data": {
      "text/html": [
       "<div>\n",
       "<style scoped>\n",
       "    .dataframe tbody tr th:only-of-type {\n",
       "        vertical-align: middle;\n",
       "    }\n",
       "\n",
       "    .dataframe tbody tr th {\n",
       "        vertical-align: top;\n",
       "    }\n",
       "\n",
       "    .dataframe thead th {\n",
       "        text-align: right;\n",
       "    }\n",
       "</style>\n",
       "<table border=\"1\" class=\"dataframe\">\n",
       "  <thead>\n",
       "    <tr style=\"text-align: right;\">\n",
       "      <th></th>\n",
       "      <th>name</th>\n",
       "      <th>sex</th>\n",
       "      <th>birth_date</th>\n",
       "      <th>breed_name</th>\n",
       "      <th>borough</th>\n",
       "      <th>zipcode</th>\n",
       "      <th>nta</th>\n",
       "      <th>issued</th>\n",
       "      <th>expired</th>\n",
       "      <th>birth_year</th>\n",
       "    </tr>\n",
       "    <tr>\n",
       "      <th>rownumber</th>\n",
       "      <th></th>\n",
       "      <th></th>\n",
       "      <th></th>\n",
       "      <th></th>\n",
       "      <th></th>\n",
       "      <th></th>\n",
       "      <th></th>\n",
       "      <th></th>\n",
       "      <th></th>\n",
       "      <th></th>\n",
       "    </tr>\n",
       "  </thead>\n",
       "  <tbody>\n",
       "    <tr>\n",
       "      <th>3160</th>\n",
       "      <td>ADIDAS</td>\n",
       "      <td>F</td>\n",
       "      <td>2008-07-01</td>\n",
       "      <td>American Pit Bull Terrier/Pit Bull</td>\n",
       "      <td>Manhattan</td>\n",
       "      <td>10036</td>\n",
       "      <td>MN15</td>\n",
       "      <td>2015-01-16</td>\n",
       "      <td>2016-03-22</td>\n",
       "      <td>2008</td>\n",
       "    </tr>\n",
       "    <tr>\n",
       "      <th>45786</th>\n",
       "      <td>ADIDAS</td>\n",
       "      <td>F</td>\n",
       "      <td>2008-07-01</td>\n",
       "      <td>American Pit Bull Terrier/Pit Bull</td>\n",
       "      <td>Manhattan</td>\n",
       "      <td>10036</td>\n",
       "      <td>MN15</td>\n",
       "      <td>2016-01-05</td>\n",
       "      <td>2017-03-22</td>\n",
       "      <td>2008</td>\n",
       "    </tr>\n",
       "    <tr>\n",
       "      <th>106100</th>\n",
       "      <td>ADIDAS</td>\n",
       "      <td>F</td>\n",
       "      <td>2008-07-01</td>\n",
       "      <td>American Pit Bull Terrier/Pit Bull</td>\n",
       "      <td>Manhattan</td>\n",
       "      <td>10036</td>\n",
       "      <td>MN15</td>\n",
       "      <td>2016-10-01</td>\n",
       "      <td>2020-03-22</td>\n",
       "      <td>2008</td>\n",
       "    </tr>\n",
       "  </tbody>\n",
       "</table>\n",
       "</div>"
      ],
      "text/plain": [
       "             name sex birth_date                          breed_name  \\\n",
       "rownumber                                                              \n",
       "3160       ADIDAS   F 2008-07-01  American Pit Bull Terrier/Pit Bull   \n",
       "45786      ADIDAS   F 2008-07-01  American Pit Bull Terrier/Pit Bull   \n",
       "106100     ADIDAS   F 2008-07-01  American Pit Bull Terrier/Pit Bull   \n",
       "\n",
       "             borough zipcode   nta     issued    expired  birth_year  \n",
       "rownumber                                                             \n",
       "3160       Manhattan   10036  MN15 2015-01-16 2016-03-22        2008  \n",
       "45786      Manhattan   10036  MN15 2016-01-05 2017-03-22        2008  \n",
       "106100     Manhattan   10036  MN15 2016-10-01 2020-03-22        2008  "
      ]
     },
     "execution_count": 143,
     "metadata": {},
     "output_type": "execute_result"
    }
   ],
   "source": [
    "df[df['name']=='ADIDAS']"
   ]
  },
  {
   "cell_type": "markdown",
   "metadata": {},
   "source": [
    "There is no way to tell with certainty if these rows actually refer to the same dog or not. It is possible, for example, that Adidas was a very old pit bull who died in late 2015, and its owner got a new pit bull whom he named Adidas as well. In that case, the first row would refer to the old Adidas, and the next two rows would refer to the young Adidas). \n",
    "\n",
    "But presumably these cases are rare. Most often, duplicate rows will indicate the same dog, whose license was renewed during 2016. So I will just drop duplicate rows where 'name', 'sex', 'birth_date', 'breed_name', 'zip', and 'nta' are identical. We should be aware that this will most likely remove _some_ valid data, but choosing to keep _all_ these duplicates will distort the data even more (and, as I mention above, there doesn't seem to be a way to distinguish between different dogs with the same information). \n",
    "\n",
    "Important note: the valid data that will be lost when we remove these duplicates is likely to come from popular breeds with common names, because it is more likely there are multiple such dogs in the same neighborhood, and having the same birth date. This is relevant when we will compute statistics for dog names and dog breeds - _it will be likely that the most popular dog names, for example, will be undercounted_. "
   ]
  },
  {
   "cell_type": "code",
   "execution_count": 144,
   "metadata": {},
   "outputs": [
    {
     "data": {
      "text/plain": [
       "name      sex  birth_date  breed_name                            zipcode  nta \n",
       "ABBY      F    2012-11-01  Unknown                               11358    QN51    3\n",
       "ADDISON   F    2011-07-01  Labrador Retriever                    10014    MN23    3\n",
       "ADIDAS    F    2008-07-01  American Pit Bull Terrier/Pit Bull    10036    MN15    3\n",
       "AKIBA     M    2009-07-01  Siberian Husky                        11219    BK34    3\n",
       "AKILA     F    2008-11-01  Basenji                               10018    MN13    3\n",
       "ALICIA    F    2007-08-01  Havanese                              10019    MN15    3\n",
       "ALLEN     M    2006-02-01  Cocker Spaniel                        11109    QN31    3\n",
       "BABE      F    2002-10-01  Pug                                   10075    MN31    3\n",
       "BARNEY    M    2002-01-01  Tibetan Terrier                       11217    BK68    3\n",
       "BEANS     M    2007-04-01  Shih Tzu                              10312    SI01    3\n",
       "BELLA     F    2012-10-01  Boxer                                 10025    MN12    3\n",
       "               2014-08-01  Poodle                                10038    MN25    3\n",
       "BELLA     F    2012-12-01  Chihuahua                             11235    BK17    3\n",
       "BENNY     M    2014-11-01  Belgian Malinois                      10040    MN35    3\n",
       "BETTY     F    2011-01-01  Bull Dog, English                     10003    MN23    3\n",
       "BISCUIT   M    2004-01-01  Unknown                               10312    SI01    3\n",
       "BOSCO     M    2013-10-01  Labrador Retriever                    11377    QN63    3\n",
       "BROWNIE   F    2013-05-01  Cocker Spaniel                        11432    QN61    3\n",
       "BUDDY     M    2005-01-01  Unknown                               10012    MN24    3\n",
       "BUSTER    M    2008-09-01  Labrador Retriever                    11378    QN30    3\n",
       "               2009-01-01  Maltese                               10025    MN09    3\n",
       "CHARLEY   M    2014-09-01  Cocker Spaniel                        10011    MN13    3\n",
       "CHESTER   M    2015-11-01  Norwich Terrier                       10021    MN40    3\n",
       "CJ        M    2002-11-01  Maltese                               10314    SI07    3\n",
       "COCO      F    2012-12-01  American Pit Bull Terrier/Pit Bull    11226    BK42    3\n",
       "CODY      M    2007-06-01  Cairn Terrier                         10027    MN09    3\n",
       "               2012-06-01  Unknown                               10024    MN12    3\n",
       "               2013-03-01  Unknown                               11415    QN60    3\n",
       "DAISY     F    2005-07-01  Shar-Pei, Chinese                     10463    BX29    3\n",
       "DARLA     F    2001-09-01  Maltese                               10075    MN31    3\n",
       "                                                                                 ..\n",
       "ROSIE     F    2002-01-01  Jack Russell Terrier                  10038    MN25    3\n",
       "RUBY      F    2008-11-01  Yorkshire Terrier                     10014    MN23    3\n",
       "RUFUS     M    2009-07-01  Labrador Retriever Crossbreed         10025    MN12    3\n",
       "SCOUT     F    2010-08-01  Brittany Spaniel                      10025    MN12    3\n",
       "          M    2009-11-01  Coonhound, Black and Tan              11109    QN31    3\n",
       "SHADOW    M    2009-10-01  Poodle, Miniature                     11238    BK64    3\n",
       "SHEA      F    2013-09-01  Golden Retriever                      11377    QN63    3\n",
       "SHERMAN   F    2015-05-01  Boston Terrier                        11237    BK77    3\n",
       "SIUL      M    2014-05-01  Bichon Frise                          11206    BK78    3\n",
       "SMOKEY    M    2015-07-01  Pomeranian                            10308    SI54    3\n",
       "SPANKY    M    2010-01-01  Unknown                               11378    QN21    3\n",
       "STELLA    F    2002-01-01  Unknown                               10128    MN32    3\n",
       "STEWIE    M    2014-06-01  Labrador Retriever                    11365    QN48    3\n",
       "TACO      M    2005-10-01  Unknown                               10462    BX49    3\n",
       "TAINA     F    2010-04-01  Miniature Pinscher                    10469    BX07    3\n",
       "TALLY     F    2011-12-01  Labrador Retriever Crossbreed         10021    MN40    3\n",
       "TAZ       M    2006-05-01  American Pit Bull Mix / Pit Bull Mix  10310    SI35    3\n",
       "TEDDY     M    2009-01-01  Unknown                               10472    BX08    3\n",
       "TOFFEE    M    2013-05-01  Yorkshire Terrier                     11375    QN17    3\n",
       "TOOTIE    F    2010-08-01  Bassett Hound                         10028    MN32    3\n",
       "TRIXIE    F    2011-04-01  Shih Tzu                              10029    MN34    3\n",
       "TUCKY     M    2011-04-01  Unknown                               10308    SI54    3\n",
       "TYLER     M    2005-01-01  Unknown                               11105    QN72    3\n",
       "UNKNOWN   F    2015-07-01  French Bulldog                        10014    MN23    3\n",
       "          M    2014-06-01  Unknown                               11224    BK23    3\n",
       "WINKY     M    2011-10-01  Bull Dog, French                      10025    MN12    3\n",
       "ZEUS      M    2013-11-01  Poodle, Toy                           11211    BK73    3\n",
       "ZIGGY     M    2011-07-01  Unknown                               11694    QN10    3\n",
       "ZOE       F    2011-11-01  Yorkshire Terrier                     11224    BK23    4\n",
       "ZOEY      F    2012-02-01  Bull Dog, English                     11229    BK44    3\n",
       "Length: 113, dtype: int64"
      ]
     },
     "execution_count": 144,
     "metadata": {},
     "output_type": "execute_result"
    }
   ],
   "source": [
    "fields=['name','sex','birth_date','breed_name','zipcode','nta']\n",
    "dups=df[df.duplicated(subset=fields,keep=False)].sort_values(fields,axis=0)\n",
    "dups.head(10)\n",
    "\n",
    "dups = dups.pivot_table(index=fields, aggfunc='size')\n",
    "dups[dups>2]"
   ]
  },
  {
   "cell_type": "code",
   "execution_count": 145,
   "metadata": {},
   "outputs": [],
   "source": [
    "df.drop_duplicates(fields,inplace=True)"
   ]
  },
  {
   "cell_type": "markdown",
   "metadata": {},
   "source": [
    "Next, I check how accurate borough data is:"
   ]
  },
  {
   "cell_type": "code",
   "execution_count": 146,
   "metadata": {},
   "outputs": [
    {
     "data": {
      "text/plain": [
       "Manhattan               38840\n",
       "Brooklyn                27707\n",
       "Queens                  22540\n",
       "Bronx                   11486\n",
       "Staten Island            9903\n",
       "QUEENS                    276\n",
       "STATEN IS                 236\n",
       "BROOKLYN                  227\n",
       "MANHATTAN                 190\n",
       "BRONX                      95\n",
       "New York                   43\n",
       "NEW YORK                    5\n",
       "new york                    4\n",
       "Kew Gardens                 3\n",
       "New York                    3\n",
       "Jersey City                 2\n",
       "Bronx                       2\n",
       "Forest Hills                2\n",
       "ASTORIA                     2\n",
       "Flushing                    2\n",
       "NYC                         2\n",
       "Brooklyn                    2\n",
       "Richmond Hill               2\n",
       "Corona                      2\n",
       "New York                    2\n",
       "Woodside                    2\n",
       "Jackson heights             2\n",
       "Astoria                     2\n",
       "queens                      1\n",
       "Ozone Park                  1\n",
       "                        ...  \n",
       "B                           1\n",
       "JACKSON HGTS                1\n",
       "ARVERNE                     1\n",
       "MASPETH                     1\n",
       "San Francisco               1\n",
       "Santa Monica                1\n",
       "bronxville                  1\n",
       "MIDDLE VILG                 1\n",
       "Middle Village              1\n",
       "The Villages                1\n",
       "Long Island City            1\n",
       "oakland gardens             1\n",
       "ozone park                  1\n",
       "Elmhurst                    1\n",
       "kissimmee florida           1\n",
       "New york                    1\n",
       "Elmhurst                    1\n",
       "fresh meadows               1\n",
       "Quens                       1\n",
       "Wappingers Falls, NY        1\n",
       "Glendale                    1\n",
       "WOODSIDE                    1\n",
       "SO RICHMOND                 1\n",
       "Floral Park                 1\n",
       "Briarwood                   1\n",
       "bronx                       1\n",
       "Hoboken                     1\n",
       "Middletown                  1\n",
       "Staten Island, NY           1\n",
       "South Richmond Hil          1\n",
       "Name: borough, Length: 79, dtype: int64"
      ]
     },
     "execution_count": 146,
     "metadata": {},
     "output_type": "execute_result"
    }
   ],
   "source": [
    "df['borough'].value_counts()"
   ]
  },
  {
   "cell_type": "markdown",
   "metadata": {},
   "source": [
    "I also check for null values in the 'borough' column:"
   ]
  },
  {
   "cell_type": "code",
   "execution_count": 147,
   "metadata": {},
   "outputs": [
    {
     "data": {
      "text/plain": [
       "0"
      ]
     },
     "execution_count": 147,
     "metadata": {},
     "output_type": "execute_result"
    }
   ],
   "source": [
    "df['borough'].isnull().sum()"
   ]
  },
  {
   "cell_type": "markdown",
   "metadata": {},
   "source": [
    "Only the first five results are accurate entries. The other are misspellings, a different format, or not boroughs altogether. I need to do some cleaning up.\n",
    "\n",
    "There are two quick ways to fix the 'borough' column. One would be to use the neighborhood codes in the 'nta' column to infer borough. Each neighborhood in a certain borough starts with a two-letter code of the borough (for example, all Manhattan neighborhoods start with 'MN'). \n",
    "\n",
    "Second, we could use zipcodes to infer borough.\n",
    "\n",
    "The first method is quicker. For the second method, I would need to scrape zip codes for NYC from somewhere. So first I check if using neighborhoods would do a good job."
   ]
  },
  {
   "cell_type": "code",
   "execution_count": 148,
   "metadata": {},
   "outputs": [
    {
     "data": {
      "text/plain": [
       "3087"
      ]
     },
     "execution_count": 148,
     "metadata": {},
     "output_type": "execute_result"
    }
   ],
   "source": [
    "df['nta'].isnull().sum()"
   ]
  },
  {
   "cell_type": "markdown",
   "metadata": {},
   "source": [
    "This is quite a few null values. In a good-case scenario, some of these nulls will be irrelevant because the 'borough' column has a valid entry, so I would not have to use the 'nta' column to infer borough to begin with. "
   ]
  },
  {
   "cell_type": "code",
   "execution_count": 149,
   "metadata": {},
   "outputs": [
    {
     "data": {
      "text/plain": [
       "29"
      ]
     },
     "execution_count": 149,
     "metadata": {},
     "output_type": "execute_result"
    }
   ],
   "source": [
    "bad_name=(df['borough']!='Manhattan') & (df['borough']!='Bronx') & (df['borough']!='Queens') & (df['borough']!='Brooklyn') & (df['borough']!='Staten Island')\n",
    "null_name=df['nta'].isnull()\n",
    "\n",
    "df[(bad_name & null_name)]['borough'].count()"
   ]
  },
  {
   "cell_type": "markdown",
   "metadata": {},
   "source": [
    "Luckily, it looks like the rows where 'nta' is null do have valid borough entries (except for 29 rows; still, much better than 3,087 rows!)). So I'll use 'nta' column to extract borough when this is not available. But first i make sure borough entries are somewhat consistent by stripping whitespace and formatting names in a more consistent manner."
   ]
  },
  {
   "cell_type": "code",
   "execution_count": 150,
   "metadata": {},
   "outputs": [],
   "source": [
    "df['borough']=df['borough'].apply(lambda x: x.title())\n",
    "df['borough']=df['borough'].apply(lambda x: x.strip())"
   ]
  },
  {
   "cell_type": "code",
   "execution_count": 151,
   "metadata": {},
   "outputs": [
    {
     "data": {
      "text/plain": [
       "Manhattan               39124\n",
       "Brooklyn                27910\n",
       "Queens                  22931\n",
       "Bronx                   11498\n",
       "Staten Island           10150\n",
       "New York                    6\n",
       "Jersey City                 2\n",
       "Kissimmee Florida           1\n",
       "West Palm Beach             1\n",
       "Lynbrook                    1\n",
       "Albany                      1\n",
       "Maspeth                     1\n",
       "Potomac                     1\n",
       "Santa Monica                1\n",
       "Middletown                  1\n",
       "San Francisco               1\n",
       "Hoboken                     1\n",
       "Bronxville                  1\n",
       "Wappingers Falls, Ny        1\n",
       "The Villages                1\n",
       "Ny                          1\n",
       "Name: borough, dtype: int64"
      ]
     },
     "execution_count": 151,
     "metadata": {},
     "output_type": "execute_result"
    }
   ],
   "source": [
    "df['nta']=df['nta'].astype(str,copy=False)     #make sure 'nta' column is string\n",
    "df.reset_index(inplace=True)\n",
    "def extract_borough(string):      #takes first two characters of 'nta' and returns respective borough\n",
    "    if string[0:2]=='MN':\n",
    "        return 'Manhattan'\n",
    "    if string[0:2]=='QN':\n",
    "        return 'Queens'\n",
    "    if string[0:2]=='BX':\n",
    "        return 'Bronx'\n",
    "    if string[0:2]=='BK':\n",
    "        return 'Brooklyn'\n",
    "    if string[0:2]=='SI':\n",
    "        return 'Staten Island'\n",
    "\n",
    "for i in range(df.shape[0]):       #infers 'borough' column from 'nta' column, when 'nta' is not null\n",
    "    if df.loc[i,'nta']!='nan':\n",
    "        df.loc[i,'borough']=extract_borough(df.loc[i,'nta'])\n",
    "\n",
    "#CAN I DO IT WITH LAMBDA FUNCTION INSTEAD???\n",
    "#     df.loc[:,'Borough']=df.loc[:,'NTA'].apply(lambda x: extract_borough(x) if x is not null)\n",
    "\n",
    "df['borough'].value_counts()\n"
   ]
  },
  {
   "cell_type": "code",
   "execution_count": 152,
   "metadata": {},
   "outputs": [
    {
     "data": {
      "text/plain": [
       "0"
      ]
     },
     "execution_count": 152,
     "metadata": {},
     "output_type": "execute_result"
    }
   ],
   "source": [
    "df['borough'].isnull().sum()"
   ]
  },
  {
   "cell_type": "markdown",
   "metadata": {},
   "source": [
    "It looks like using 'nta' to extract boroughs worked for the vast majority of cases, so I'll just leave it at this. I do a quick cleanup of dog names:"
   ]
  },
  {
   "cell_type": "code",
   "execution_count": 153,
   "metadata": {},
   "outputs": [],
   "source": [
    "df['name']=df['name'].astype(str)\n",
    "df['name']=df['name'].apply(lambda x: x.strip())"
   ]
  },
  {
   "cell_type": "markdown",
   "metadata": {},
   "source": [
    "I save the cleaned dataframe in a new .csv file."
   ]
  },
  {
   "cell_type": "code",
   "execution_count": 154,
   "metadata": {},
   "outputs": [],
   "source": [
    "df.to_csv('NYC_Dog_Licensing_Dataset_Cleaned.csv')"
   ]
  },
  {
   "cell_type": "markdown",
   "metadata": {},
   "source": [
    "In the visualization part of this project, I want to look at the relationshop between neighborhood and dog weight. Since my data doesn't have information about individual dog weights, I will approximate a dog's weight by assigning it the generic weight of its breed. So I need to gather some data about generic dog weights. I do this next."
   ]
  },
  {
   "cell_type": "code",
   "execution_count": 155,
   "metadata": {},
   "outputs": [
    {
     "data": {
      "text/html": [
       "<div>\n",
       "<style scoped>\n",
       "    .dataframe tbody tr th:only-of-type {\n",
       "        vertical-align: middle;\n",
       "    }\n",
       "\n",
       "    .dataframe tbody tr th {\n",
       "        vertical-align: top;\n",
       "    }\n",
       "\n",
       "    .dataframe thead th {\n",
       "        text-align: right;\n",
       "    }\n",
       "</style>\n",
       "<table border=\"1\" class=\"dataframe\">\n",
       "  <thead>\n",
       "    <tr style=\"text-align: right;\">\n",
       "      <th></th>\n",
       "      <th>breed_name</th>\n",
       "      <th>sex</th>\n",
       "      <th>weight</th>\n",
       "    </tr>\n",
       "  </thead>\n",
       "  <tbody>\n",
       "    <tr>\n",
       "      <th>0</th>\n",
       "      <td>Affenpinscher</td>\n",
       "      <td>M</td>\n",
       "      <td>8</td>\n",
       "    </tr>\n",
       "    <tr>\n",
       "      <th>1</th>\n",
       "      <td>Affenpinscher</td>\n",
       "      <td>F</td>\n",
       "      <td>8</td>\n",
       "    </tr>\n",
       "    <tr>\n",
       "      <th>2</th>\n",
       "      <td>Afghan Hound</td>\n",
       "      <td>M</td>\n",
       "      <td>60</td>\n",
       "    </tr>\n",
       "    <tr>\n",
       "      <th>3</th>\n",
       "      <td>Afghan Hound</td>\n",
       "      <td>F</td>\n",
       "      <td>50</td>\n",
       "    </tr>\n",
       "    <tr>\n",
       "      <th>4</th>\n",
       "      <td>Airedale Terrier</td>\n",
       "      <td>M</td>\n",
       "      <td>55</td>\n",
       "    </tr>\n",
       "  </tbody>\n",
       "</table>\n",
       "</div>"
      ],
      "text/plain": [
       "         breed_name sex  weight\n",
       "0     Affenpinscher   M       8\n",
       "1     Affenpinscher   F       8\n",
       "2      Afghan Hound   M      60\n",
       "3      Afghan Hound   F      50\n",
       "4  Airedale Terrier   M      55"
      ]
     },
     "execution_count": 155,
     "metadata": {},
     "output_type": "execute_result"
    }
   ],
   "source": [
    "from bs4 import BeautifulSoup\n",
    "import urllib.request as url\n",
    "import pandas as pd\n",
    "\n",
    "req=url.Request('https://modernpuppies.com/breedweightchart.aspx')\n",
    "response=url.urlopen(req)\n",
    "page=response.read()\n",
    "\n",
    "soup=BeautifulSoup(page,'html.parser')\n",
    "\n",
    "for tr in soup.find_all('tr'):\n",
    "    if 'Breed' in tr.get_text():\n",
    "        list_table=tr.find_next_siblings()\n",
    "    if len(list_table)>20:\n",
    "        break\n",
    "\n",
    "breed_list=[]\n",
    "\n",
    "def get_weight(text):\n",
    "    a=text.split(':')[1].split('lbs')[0].strip()\n",
    "    if len(a.split('-'))>1:\n",
    "        a=(int(a.split('-')[0])+int(a.split('-')[1]))/2\n",
    "    return int(a)\n",
    "\n",
    "for i in list_table:\n",
    "    name=i.get_text().split('\\n')[1]\n",
    "    male_weight=i.get_text().split('\\n')[3]\n",
    "    male_weight=get_weight(male_weight)\n",
    "    female_weight=i.get_text().split('\\n')[5]\n",
    "    female_weight=get_weight(female_weight)\n",
    "    breed_list.append({'breed_name':name,'sex':'M','weight':male_weight})\n",
    "    breed_list.append({'breed_name':name,'sex':'F','weight':female_weight})\n",
    "    \n",
    "weight_df=pd.DataFrame(breed_list)\n",
    "weight_df.head()"
   ]
  },
  {
   "cell_type": "code",
   "execution_count": 156,
   "metadata": {},
   "outputs": [],
   "source": [
    "#save dog weights into a separate file\n",
    "weight_df.to_csv('dog_weights.csv')"
   ]
  },
  {
   "cell_type": "markdown",
   "metadata": {
    "collapsed": true
   },
   "source": [
    "Next, I join the dog table with the breed weight table."
   ]
  },
  {
   "cell_type": "code",
   "execution_count": 157,
   "metadata": {
    "scrolled": true
   },
   "outputs": [
    {
     "data": {
      "text/html": [
       "<div>\n",
       "<style scoped>\n",
       "    .dataframe tbody tr th:only-of-type {\n",
       "        vertical-align: middle;\n",
       "    }\n",
       "\n",
       "    .dataframe tbody tr th {\n",
       "        vertical-align: top;\n",
       "    }\n",
       "\n",
       "    .dataframe thead th {\n",
       "        text-align: right;\n",
       "    }\n",
       "</style>\n",
       "<table border=\"1\" class=\"dataframe\">\n",
       "  <thead>\n",
       "    <tr style=\"text-align: right;\">\n",
       "      <th></th>\n",
       "      <th>rownumber</th>\n",
       "      <th>name</th>\n",
       "      <th>sex</th>\n",
       "      <th>birth_date</th>\n",
       "      <th>breed_name</th>\n",
       "      <th>borough</th>\n",
       "      <th>zipcode</th>\n",
       "      <th>nta</th>\n",
       "      <th>issued</th>\n",
       "      <th>expired</th>\n",
       "      <th>birth_year</th>\n",
       "      <th>weight</th>\n",
       "    </tr>\n",
       "  </thead>\n",
       "  <tbody>\n",
       "    <tr>\n",
       "      <th>0</th>\n",
       "      <td>533</td>\n",
       "      <td>BONITA</td>\n",
       "      <td>F</td>\n",
       "      <td>2013-05-01</td>\n",
       "      <td>Unknown</td>\n",
       "      <td>Queens</td>\n",
       "      <td>11435</td>\n",
       "      <td>QN61</td>\n",
       "      <td>2014-10-24</td>\n",
       "      <td>2017-11-15</td>\n",
       "      <td>2013</td>\n",
       "      <td>NaN</td>\n",
       "    </tr>\n",
       "    <tr>\n",
       "      <th>1</th>\n",
       "      <td>548</td>\n",
       "      <td>ROCKY</td>\n",
       "      <td>M</td>\n",
       "      <td>2014-05-01</td>\n",
       "      <td>Labrador Retriever Crossbreed</td>\n",
       "      <td>Queens</td>\n",
       "      <td>11691</td>\n",
       "      <td>QN15</td>\n",
       "      <td>2014-10-25</td>\n",
       "      <td>2019-10-25</td>\n",
       "      <td>2014</td>\n",
       "      <td>NaN</td>\n",
       "    </tr>\n",
       "    <tr>\n",
       "      <th>2</th>\n",
       "      <td>622</td>\n",
       "      <td>BULLY</td>\n",
       "      <td>M</td>\n",
       "      <td>2010-07-01</td>\n",
       "      <td>American Pit Bull Terrier/Pit Bull</td>\n",
       "      <td>Queens</td>\n",
       "      <td>11419</td>\n",
       "      <td>QN55</td>\n",
       "      <td>2014-10-28</td>\n",
       "      <td>2016-09-24</td>\n",
       "      <td>2010</td>\n",
       "      <td>NaN</td>\n",
       "    </tr>\n",
       "    <tr>\n",
       "      <th>3</th>\n",
       "      <td>633</td>\n",
       "      <td>COCO</td>\n",
       "      <td>M</td>\n",
       "      <td>2005-02-01</td>\n",
       "      <td>Labrador Retriever</td>\n",
       "      <td>Queens</td>\n",
       "      <td>11692</td>\n",
       "      <td>QN12</td>\n",
       "      <td>2014-10-29</td>\n",
       "      <td>2017-10-29</td>\n",
       "      <td>2005</td>\n",
       "      <td>72.0</td>\n",
       "    </tr>\n",
       "    <tr>\n",
       "      <th>4</th>\n",
       "      <td>655</td>\n",
       "      <td>SKI</td>\n",
       "      <td>F</td>\n",
       "      <td>2012-09-01</td>\n",
       "      <td>American Pit Bull Terrier/Pit Bull</td>\n",
       "      <td>Queens</td>\n",
       "      <td>11691</td>\n",
       "      <td>QN15</td>\n",
       "      <td>2014-10-31</td>\n",
       "      <td>2019-10-31</td>\n",
       "      <td>2012</td>\n",
       "      <td>NaN</td>\n",
       "    </tr>\n",
       "  </tbody>\n",
       "</table>\n",
       "</div>"
      ],
      "text/plain": [
       "   rownumber    name sex birth_date                          breed_name  \\\n",
       "0        533  BONITA   F 2013-05-01                             Unknown   \n",
       "1        548   ROCKY   M 2014-05-01       Labrador Retriever Crossbreed   \n",
       "2        622   BULLY   M 2010-07-01  American Pit Bull Terrier/Pit Bull   \n",
       "3        633    COCO   M 2005-02-01                  Labrador Retriever   \n",
       "4        655     SKI   F 2012-09-01  American Pit Bull Terrier/Pit Bull   \n",
       "\n",
       "  borough zipcode   nta     issued    expired  birth_year  weight  \n",
       "0  Queens   11435  QN61 2014-10-24 2017-11-15        2013     NaN  \n",
       "1  Queens   11691  QN15 2014-10-25 2019-10-25        2014     NaN  \n",
       "2  Queens   11419  QN55 2014-10-28 2016-09-24        2010     NaN  \n",
       "3  Queens   11692  QN12 2014-10-29 2017-10-29        2005    72.0  \n",
       "4  Queens   11691  QN15 2014-10-31 2019-10-31        2012     NaN  "
      ]
     },
     "execution_count": 157,
     "metadata": {},
     "output_type": "execute_result"
    }
   ],
   "source": [
    "merged_df=pd.merge(df,weight_df,how='left',on=['breed_name','sex'],sort=False)\n",
    "\n",
    "merged_df.head()"
   ]
  },
  {
   "cell_type": "markdown",
   "metadata": {},
   "source": [
    "The joined table looks good! However, it's likely some of the dogs were not assigned a weight. Let's see how many dogs without a weight we have in the data. "
   ]
  },
  {
   "cell_type": "code",
   "execution_count": 158,
   "metadata": {},
   "outputs": [
    {
     "data": {
      "text/plain": [
       "56050"
      ]
     },
     "execution_count": 158,
     "metadata": {},
     "output_type": "execute_result"
    }
   ],
   "source": [
    "merged_df['weight'].isnull().sum()"
   ]
  },
  {
   "cell_type": "markdown",
   "metadata": {},
   "source": [
    "This is a lot of dogs! Presumably, some dogs are not assigned a breed and so they were not assigned a weight when joining the tables:"
   ]
  },
  {
   "cell_type": "code",
   "execution_count": 160,
   "metadata": {
    "scrolled": true
   },
   "outputs": [
    {
     "data": {
      "text/plain": [
       "14893"
      ]
     },
     "execution_count": 160,
     "metadata": {},
     "output_type": "execute_result"
    }
   ],
   "source": [
    "merged_df[merged_df['breed_name']=='Unknown']['rownumber'].count()"
   ]
  },
  {
   "cell_type": "markdown",
   "metadata": {},
   "source": [
    "This still leaves around 40,000 dogs that could have a weight, but they don't simply because their breed doesn't appear in the weight_df dataframe."
   ]
  },
  {
   "cell_type": "code",
   "execution_count": 161,
   "metadata": {},
   "outputs": [
    {
     "data": {
      "text/html": [
       "<div>\n",
       "<style scoped>\n",
       "    .dataframe tbody tr th:only-of-type {\n",
       "        vertical-align: middle;\n",
       "    }\n",
       "\n",
       "    .dataframe tbody tr th {\n",
       "        vertical-align: top;\n",
       "    }\n",
       "\n",
       "    .dataframe thead th {\n",
       "        text-align: right;\n",
       "    }\n",
       "</style>\n",
       "<table border=\"1\" class=\"dataframe\">\n",
       "  <thead>\n",
       "    <tr style=\"text-align: right;\">\n",
       "      <th></th>\n",
       "      <th>rownumber</th>\n",
       "      <th>name</th>\n",
       "      <th>sex</th>\n",
       "      <th>birth_date</th>\n",
       "      <th>breed_name</th>\n",
       "      <th>borough</th>\n",
       "      <th>zipcode</th>\n",
       "      <th>nta</th>\n",
       "      <th>issued</th>\n",
       "      <th>expired</th>\n",
       "      <th>birth_year</th>\n",
       "      <th>weight</th>\n",
       "    </tr>\n",
       "  </thead>\n",
       "  <tbody>\n",
       "    <tr>\n",
       "      <th>1</th>\n",
       "      <td>548</td>\n",
       "      <td>ROCKY</td>\n",
       "      <td>M</td>\n",
       "      <td>2014-05-01</td>\n",
       "      <td>Labrador Retriever Crossbreed</td>\n",
       "      <td>Queens</td>\n",
       "      <td>11691</td>\n",
       "      <td>QN15</td>\n",
       "      <td>2014-10-25</td>\n",
       "      <td>2019-10-25</td>\n",
       "      <td>2014</td>\n",
       "      <td>NaN</td>\n",
       "    </tr>\n",
       "    <tr>\n",
       "      <th>2</th>\n",
       "      <td>622</td>\n",
       "      <td>BULLY</td>\n",
       "      <td>M</td>\n",
       "      <td>2010-07-01</td>\n",
       "      <td>American Pit Bull Terrier/Pit Bull</td>\n",
       "      <td>Queens</td>\n",
       "      <td>11419</td>\n",
       "      <td>QN55</td>\n",
       "      <td>2014-10-28</td>\n",
       "      <td>2016-09-24</td>\n",
       "      <td>2010</td>\n",
       "      <td>NaN</td>\n",
       "    </tr>\n",
       "    <tr>\n",
       "      <th>4</th>\n",
       "      <td>655</td>\n",
       "      <td>SKI</td>\n",
       "      <td>F</td>\n",
       "      <td>2012-09-01</td>\n",
       "      <td>American Pit Bull Terrier/Pit Bull</td>\n",
       "      <td>Queens</td>\n",
       "      <td>11691</td>\n",
       "      <td>QN15</td>\n",
       "      <td>2014-10-31</td>\n",
       "      <td>2019-10-31</td>\n",
       "      <td>2012</td>\n",
       "      <td>NaN</td>\n",
       "    </tr>\n",
       "    <tr>\n",
       "      <th>9</th>\n",
       "      <td>919</td>\n",
       "      <td>KENZI</td>\n",
       "      <td>F</td>\n",
       "      <td>2010-05-01</td>\n",
       "      <td>Schnauzer, Miniature</td>\n",
       "      <td>Queens</td>\n",
       "      <td>11420</td>\n",
       "      <td>QN55</td>\n",
       "      <td>2014-11-27</td>\n",
       "      <td>2016-01-03</td>\n",
       "      <td>2010</td>\n",
       "      <td>NaN</td>\n",
       "    </tr>\n",
       "    <tr>\n",
       "      <th>10</th>\n",
       "      <td>976</td>\n",
       "      <td>APOLLO</td>\n",
       "      <td>M</td>\n",
       "      <td>2014-10-01</td>\n",
       "      <td>American Pit Bull Terrier/Pit Bull</td>\n",
       "      <td>Queens</td>\n",
       "      <td>11420</td>\n",
       "      <td>QN55</td>\n",
       "      <td>2014-12-05</td>\n",
       "      <td>2017-12-05</td>\n",
       "      <td>2014</td>\n",
       "      <td>NaN</td>\n",
       "    </tr>\n",
       "  </tbody>\n",
       "</table>\n",
       "</div>"
      ],
      "text/plain": [
       "    rownumber    name sex birth_date                          breed_name  \\\n",
       "1         548   ROCKY   M 2014-05-01       Labrador Retriever Crossbreed   \n",
       "2         622   BULLY   M 2010-07-01  American Pit Bull Terrier/Pit Bull   \n",
       "4         655     SKI   F 2012-09-01  American Pit Bull Terrier/Pit Bull   \n",
       "9         919   KENZI   F 2010-05-01                Schnauzer, Miniature   \n",
       "10        976  APOLLO   M 2014-10-01  American Pit Bull Terrier/Pit Bull   \n",
       "\n",
       "   borough zipcode   nta     issued    expired  birth_year  weight  \n",
       "1   Queens   11691  QN15 2014-10-25 2019-10-25        2014     NaN  \n",
       "2   Queens   11419  QN55 2014-10-28 2016-09-24        2010     NaN  \n",
       "4   Queens   11691  QN15 2014-10-31 2019-10-31        2012     NaN  \n",
       "9   Queens   11420  QN55 2014-11-27 2016-01-03        2010     NaN  \n",
       "10  Queens   11420  QN55 2014-12-05 2017-12-05        2014     NaN  "
      ]
     },
     "execution_count": 161,
     "metadata": {},
     "output_type": "execute_result"
    }
   ],
   "source": [
    "no_weight=merged_df[merged_df['weight'].isnull()]\n",
    "no_weight=no_weight[no_weight['breed_name']!='Unknown']\n",
    "no_weight.head()"
   ]
  },
  {
   "cell_type": "code",
   "execution_count": null,
   "metadata": {},
   "outputs": [],
   "source": []
  },
  {
   "cell_type": "code",
   "execution_count": 162,
   "metadata": {},
   "outputs": [
    {
     "data": {
      "text/plain": [
       "breed_name\n",
       "Yorkshire Terrier                       7159\n",
       "American Pit Bull Mix / Pit Bull Mix    3166\n",
       "American Pit Bull Terrier/Pit Bull      3063\n",
       "Labrador Retriever Crossbreed           2554\n",
       "German Shepherd Crossbreed              1383\n",
       "Poodle, Toy                             1194\n",
       "Poodle, Miniature                       1181\n",
       "Shih Tzu Crossbreed                     1077\n",
       "Chihuahua Crossbreed                    1019\n",
       "Schnauzer, Miniature                    1001\n",
       "Bull Dog, English                        918\n",
       "Poodle, Standard                         905\n",
       "Beagle Crossbreed                        874\n",
       "Bull Dog, French                         868\n",
       "Poodle                                   797\n",
       "Poodle Crossbreed                        778\n",
       "American Staffordshire Terrier           748\n",
       "Labradoodle                              720\n",
       "Terrier mix                              708\n",
       "Puggle                                   708\n",
       "Dachshund Smooth Coat                    707\n",
       "Yorkshire Terrier Crossbreed             674\n",
       "Maltese Crossbreed                       593\n",
       "Dachshund                                561\n",
       "West High White Terrier                  496\n",
       "Dachshund Smooth Coat Miniature          448\n",
       "Wheaton Terrier                          422\n",
       "Morkie                                   377\n",
       "Goldendoodle                             371\n",
       "Maltipoo                                 307\n",
       "                                        ... \n",
       "Polish Hound                               3\n",
       "French Spaniel                             3\n",
       "Hovawart                                   2\n",
       "Karelian Bear Dog                          2\n",
       "Kromfohrlander                             2\n",
       "American Leopard Hound                     2\n",
       "American Hairless Terrier                  2\n",
       "Spanish Water Dog                          2\n",
       "Pyrenean Shepherd                          2\n",
       "Lancashire Heeler                          2\n",
       "Miniature Fox Terrier                      2\n",
       "Cirneco dell                               2\n",
       "Cesky Terrier                              2\n",
       "Irish Red and White Setter                 2\n",
       "Kai Ken                                    1\n",
       "Peruvian Inca Orchid                       1\n",
       "Maltese                                    1\n",
       "Swedish Vallhund                           1\n",
       "Norwegian Buhund                           1\n",
       "Shih Tzu                                   1\n",
       "Hamiltonstovare                            1\n",
       "Grand Basset Griffon Vendeen               1\n",
       "Cavalier King Charles Spaniel              1\n",
       "Small Munsterlander Pointer                1\n",
       "Finnish Lapphund                           1\n",
       "Portuguese Sheepdog                        1\n",
       "Russian Toy                                1\n",
       "Russian Wolfhound                          1\n",
       "Bracco Italiano                            1\n",
       "Afghan Hound Crossbreed                    1\n",
       "Name: rownumber, Length: 152, dtype: int64"
      ]
     },
     "execution_count": 162,
     "metadata": {},
     "output_type": "execute_result"
    }
   ],
   "source": [
    "no_weight.groupby('breed_name')['rownumber'].count().sort_values(ascending=False)"
   ]
  },
  {
   "cell_type": "markdown",
   "metadata": {},
   "source": [
    "Obviously, I won't be able to deal with all these cases, but I will try to deal with the breeds that are most common in this list:\n",
    "\n",
    "(1) I strip blanks at each end of breed names (in both dataframes)\n",
    "\n",
    "(2) I remove 'Crossbreed' at the end of each breed name\n",
    "\n",
    "(3) I remove commas, and I will remove special characters in the weight_df dataframe. \n",
    "\n",
    "(4) I reduce all pit bull breeds to 'pit bull'\n",
    "\n",
    "(5) I manually insert a weight for Yorkshire terrier\n",
    "\n",
    "(6) I replace 'Poodle' with 'Poodle Standard'"
   ]
  },
  {
   "cell_type": "code",
   "execution_count": 168,
   "metadata": {},
   "outputs": [
    {
     "data": {
      "text/plain": [
       "'Afghan Hound'"
      ]
     },
     "execution_count": 168,
     "metadata": {},
     "output_type": "execute_result"
    }
   ],
   "source": [
    "#remove whitespace from both dataframes\n",
    "df['breed_name']=df['breed_name'].apply(lambda x: x.strip())\n",
    "weight_df['breed_name']=weight_df['breed_name'].apply(lambda x: x.strip())\n",
    "\n",
    "#remove 'Crossbreed' from df\n",
    "def remove_crossbreed(string):\n",
    "    if string[-10:]=='Crossbreed':\n",
    "        string=string[:-11]\n",
    "    return string\n",
    "df['breed_name']=df['breed_name'].apply(lambda x: remove_crossbreed(x))\n",
    "\n",
    "#remove commas from df and brackets from weight_df\n",
    "df['breed_name']=df['breed_name'].apply(lambda x: x.translate({ord(c): None for c in ','}))\n",
    "weight_df['breed_name']=weight_df['breed_name'].apply(lambda x: x.translate({ord(c): None for c in '()'}))\n",
    "\n",
    "def reduce_pitbull(string):\n",
    "    "
   ]
  },
  {
   "cell_type": "markdown",
   "metadata": {},
   "source": [
    "\n",
    "\n",
    "## Visualizations\n",
    "\n",
    "In what follows I create some visualizations. I will mainly look at the following things:\n",
    "\n",
    "(1) names: what are the most popular names, by sex, in the city? What about the boroughs? How did the most popular names do over time? \n",
    "\n",
    "(2) breeds: the same questions as for names\n",
    "\n",
    "(3) \n",
    "\n",
    "regarding pet names. Let's see what are the five most common names."
   ]
  },
  {
   "cell_type": "code",
   "execution_count": null,
   "metadata": {},
   "outputs": [],
   "source": [
    "df['name'].value_counts().head()"
   ]
  },
  {
   "cell_type": "code",
   "execution_count": null,
   "metadata": {},
   "outputs": [],
   "source": [
    "df[df['name']=='MAX'].groupby('birth_year')['name'].count()\n",
    "s1=df[df['name']=='MAX'].groupby('birth_year')['name'].count()\n",
    "s2=df[df['name']=='BELLA'].groupby('birth_year')['name'].count()\n",
    "\n",
    "plt.bar(s1.index,s1,width=1,tick_label=s1.index,alpha=.3)\n",
    "plt.xticks(rotation=40)\n",
    "\n",
    "plt.bar(s2.index,s2,width=1,color='orange',alpha=.3)\n",
    "plt.legend(['Max','Bella'])\n",
    "plt.show()"
   ]
  },
  {
   "cell_type": "markdown",
   "metadata": {},
   "source": [
    "A better idea is to look at male and female names in turn. "
   ]
  },
  {
   "cell_type": "code",
   "execution_count": null,
   "metadata": {},
   "outputs": [],
   "source": [
    "#Ignore rows where no name was provided.\n",
    "names_df=df[(df['AnimalName']!='NAME NOT PROVIDED')&(df['AnimalName']!='UNKNOWN')&(df['AnimalName']!='NONE')]\n",
    "\n",
    "#Separate between male and female dataframes.\n",
    "male=names_df[names_df['sex']=='M']\n",
    "female=names_df[names_df['sex']=='F']"
   ]
  },
  {
   "cell_type": "markdown",
   "metadata": {},
   "source": [
    "Let's look at the most popular female names in the whole city:"
   ]
  },
  {
   "cell_type": "code",
   "execution_count": 1,
   "metadata": {},
   "outputs": [
    {
     "data": {
      "text/html": [
       "\n",
       "    <div class=\"bk-root\">\n",
       "        <a href=\"https://bokeh.pydata.org\" target=\"_blank\" class=\"bk-logo bk-logo-small bk-logo-notebook\"></a>\n",
       "        <span id=\"1001\">Loading BokehJS ...</span>\n",
       "    </div>"
      ]
     },
     "metadata": {},
     "output_type": "display_data"
    },
    {
     "data": {
      "application/javascript": [
       "\n",
       "(function(root) {\n",
       "  function now() {\n",
       "    return new Date();\n",
       "  }\n",
       "\n",
       "  var force = true;\n",
       "\n",
       "  if (typeof (root._bokeh_onload_callbacks) === \"undefined\" || force === true) {\n",
       "    root._bokeh_onload_callbacks = [];\n",
       "    root._bokeh_is_loading = undefined;\n",
       "  }\n",
       "\n",
       "  var JS_MIME_TYPE = 'application/javascript';\n",
       "  var HTML_MIME_TYPE = 'text/html';\n",
       "  var EXEC_MIME_TYPE = 'application/vnd.bokehjs_exec.v0+json';\n",
       "  var CLASS_NAME = 'output_bokeh rendered_html';\n",
       "\n",
       "  /**\n",
       "   * Render data to the DOM node\n",
       "   */\n",
       "  function render(props, node) {\n",
       "    var script = document.createElement(\"script\");\n",
       "    node.appendChild(script);\n",
       "  }\n",
       "\n",
       "  /**\n",
       "   * Handle when an output is cleared or removed\n",
       "   */\n",
       "  function handleClearOutput(event, handle) {\n",
       "    var cell = handle.cell;\n",
       "\n",
       "    var id = cell.output_area._bokeh_element_id;\n",
       "    var server_id = cell.output_area._bokeh_server_id;\n",
       "    // Clean up Bokeh references\n",
       "    if (id != null && id in Bokeh.index) {\n",
       "      Bokeh.index[id].model.document.clear();\n",
       "      delete Bokeh.index[id];\n",
       "    }\n",
       "\n",
       "    if (server_id !== undefined) {\n",
       "      // Clean up Bokeh references\n",
       "      var cmd = \"from bokeh.io.state import curstate; print(curstate().uuid_to_server['\" + server_id + \"'].get_sessions()[0].document.roots[0]._id)\";\n",
       "      cell.notebook.kernel.execute(cmd, {\n",
       "        iopub: {\n",
       "          output: function(msg) {\n",
       "            var id = msg.content.text.trim();\n",
       "            if (id in Bokeh.index) {\n",
       "              Bokeh.index[id].model.document.clear();\n",
       "              delete Bokeh.index[id];\n",
       "            }\n",
       "          }\n",
       "        }\n",
       "      });\n",
       "      // Destroy server and session\n",
       "      var cmd = \"import bokeh.io.notebook as ion; ion.destroy_server('\" + server_id + \"')\";\n",
       "      cell.notebook.kernel.execute(cmd);\n",
       "    }\n",
       "  }\n",
       "\n",
       "  /**\n",
       "   * Handle when a new output is added\n",
       "   */\n",
       "  function handleAddOutput(event, handle) {\n",
       "    var output_area = handle.output_area;\n",
       "    var output = handle.output;\n",
       "\n",
       "    // limit handleAddOutput to display_data with EXEC_MIME_TYPE content only\n",
       "    if ((output.output_type != \"display_data\") || (!output.data.hasOwnProperty(EXEC_MIME_TYPE))) {\n",
       "      return\n",
       "    }\n",
       "\n",
       "    var toinsert = output_area.element.find(\".\" + CLASS_NAME.split(' ')[0]);\n",
       "\n",
       "    if (output.metadata[EXEC_MIME_TYPE][\"id\"] !== undefined) {\n",
       "      toinsert[toinsert.length - 1].firstChild.textContent = output.data[JS_MIME_TYPE];\n",
       "      // store reference to embed id on output_area\n",
       "      output_area._bokeh_element_id = output.metadata[EXEC_MIME_TYPE][\"id\"];\n",
       "    }\n",
       "    if (output.metadata[EXEC_MIME_TYPE][\"server_id\"] !== undefined) {\n",
       "      var bk_div = document.createElement(\"div\");\n",
       "      bk_div.innerHTML = output.data[HTML_MIME_TYPE];\n",
       "      var script_attrs = bk_div.children[0].attributes;\n",
       "      for (var i = 0; i < script_attrs.length; i++) {\n",
       "        toinsert[toinsert.length - 1].firstChild.setAttribute(script_attrs[i].name, script_attrs[i].value);\n",
       "      }\n",
       "      // store reference to server id on output_area\n",
       "      output_area._bokeh_server_id = output.metadata[EXEC_MIME_TYPE][\"server_id\"];\n",
       "    }\n",
       "  }\n",
       "\n",
       "  function register_renderer(events, OutputArea) {\n",
       "\n",
       "    function append_mime(data, metadata, element) {\n",
       "      // create a DOM node to render to\n",
       "      var toinsert = this.create_output_subarea(\n",
       "        metadata,\n",
       "        CLASS_NAME,\n",
       "        EXEC_MIME_TYPE\n",
       "      );\n",
       "      this.keyboard_manager.register_events(toinsert);\n",
       "      // Render to node\n",
       "      var props = {data: data, metadata: metadata[EXEC_MIME_TYPE]};\n",
       "      render(props, toinsert[toinsert.length - 1]);\n",
       "      element.append(toinsert);\n",
       "      return toinsert\n",
       "    }\n",
       "\n",
       "    /* Handle when an output is cleared or removed */\n",
       "    events.on('clear_output.CodeCell', handleClearOutput);\n",
       "    events.on('delete.Cell', handleClearOutput);\n",
       "\n",
       "    /* Handle when a new output is added */\n",
       "    events.on('output_added.OutputArea', handleAddOutput);\n",
       "\n",
       "    /**\n",
       "     * Register the mime type and append_mime function with output_area\n",
       "     */\n",
       "    OutputArea.prototype.register_mime_type(EXEC_MIME_TYPE, append_mime, {\n",
       "      /* Is output safe? */\n",
       "      safe: true,\n",
       "      /* Index of renderer in `output_area.display_order` */\n",
       "      index: 0\n",
       "    });\n",
       "  }\n",
       "\n",
       "  // register the mime type if in Jupyter Notebook environment and previously unregistered\n",
       "  if (root.Jupyter !== undefined) {\n",
       "    var events = require('base/js/events');\n",
       "    var OutputArea = require('notebook/js/outputarea').OutputArea;\n",
       "\n",
       "    if (OutputArea.prototype.mime_types().indexOf(EXEC_MIME_TYPE) == -1) {\n",
       "      register_renderer(events, OutputArea);\n",
       "    }\n",
       "  }\n",
       "\n",
       "  \n",
       "  if (typeof (root._bokeh_timeout) === \"undefined\" || force === true) {\n",
       "    root._bokeh_timeout = Date.now() + 5000;\n",
       "    root._bokeh_failed_load = false;\n",
       "  }\n",
       "\n",
       "  var NB_LOAD_WARNING = {'data': {'text/html':\n",
       "     \"<div style='background-color: #fdd'>\\n\"+\n",
       "     \"<p>\\n\"+\n",
       "     \"BokehJS does not appear to have successfully loaded. If loading BokehJS from CDN, this \\n\"+\n",
       "     \"may be due to a slow or bad network connection. Possible fixes:\\n\"+\n",
       "     \"</p>\\n\"+\n",
       "     \"<ul>\\n\"+\n",
       "     \"<li>re-rerun `output_notebook()` to attempt to load from CDN again, or</li>\\n\"+\n",
       "     \"<li>use INLINE resources instead, as so:</li>\\n\"+\n",
       "     \"</ul>\\n\"+\n",
       "     \"<code>\\n\"+\n",
       "     \"from bokeh.resources import INLINE\\n\"+\n",
       "     \"output_notebook(resources=INLINE)\\n\"+\n",
       "     \"</code>\\n\"+\n",
       "     \"</div>\"}};\n",
       "\n",
       "  function display_loaded() {\n",
       "    var el = document.getElementById(\"1001\");\n",
       "    if (el != null) {\n",
       "      el.textContent = \"BokehJS is loading...\";\n",
       "    }\n",
       "    if (root.Bokeh !== undefined) {\n",
       "      if (el != null) {\n",
       "        el.textContent = \"BokehJS \" + root.Bokeh.version + \" successfully loaded.\";\n",
       "      }\n",
       "    } else if (Date.now() < root._bokeh_timeout) {\n",
       "      setTimeout(display_loaded, 100)\n",
       "    }\n",
       "  }\n",
       "\n",
       "\n",
       "  function run_callbacks() {\n",
       "    try {\n",
       "      root._bokeh_onload_callbacks.forEach(function(callback) { callback() });\n",
       "    }\n",
       "    finally {\n",
       "      delete root._bokeh_onload_callbacks\n",
       "    }\n",
       "    console.info(\"Bokeh: all callbacks have finished\");\n",
       "  }\n",
       "\n",
       "  function load_libs(js_urls, callback) {\n",
       "    root._bokeh_onload_callbacks.push(callback);\n",
       "    if (root._bokeh_is_loading > 0) {\n",
       "      console.log(\"Bokeh: BokehJS is being loaded, scheduling callback at\", now());\n",
       "      return null;\n",
       "    }\n",
       "    if (js_urls == null || js_urls.length === 0) {\n",
       "      run_callbacks();\n",
       "      return null;\n",
       "    }\n",
       "    console.log(\"Bokeh: BokehJS not loaded, scheduling load and callback at\", now());\n",
       "    root._bokeh_is_loading = js_urls.length;\n",
       "    for (var i = 0; i < js_urls.length; i++) {\n",
       "      var url = js_urls[i];\n",
       "      var s = document.createElement('script');\n",
       "      s.src = url;\n",
       "      s.async = false;\n",
       "      s.onreadystatechange = s.onload = function() {\n",
       "        root._bokeh_is_loading--;\n",
       "        if (root._bokeh_is_loading === 0) {\n",
       "          console.log(\"Bokeh: all BokehJS libraries loaded\");\n",
       "          run_callbacks()\n",
       "        }\n",
       "      };\n",
       "      s.onerror = function() {\n",
       "        console.warn(\"failed to load library \" + url);\n",
       "      };\n",
       "      console.log(\"Bokeh: injecting script tag for BokehJS library: \", url);\n",
       "      document.getElementsByTagName(\"head\")[0].appendChild(s);\n",
       "    }\n",
       "  };var element = document.getElementById(\"1001\");\n",
       "  if (element == null) {\n",
       "    console.log(\"Bokeh: ERROR: autoload.js configured with elementid '1001' but no matching script tag was found. \")\n",
       "    return false;\n",
       "  }\n",
       "\n",
       "  var js_urls = [\"https://cdn.pydata.org/bokeh/release/bokeh-1.0.2.min.js\", \"https://cdn.pydata.org/bokeh/release/bokeh-widgets-1.0.2.min.js\", \"https://cdn.pydata.org/bokeh/release/bokeh-tables-1.0.2.min.js\", \"https://cdn.pydata.org/bokeh/release/bokeh-gl-1.0.2.min.js\"];\n",
       "\n",
       "  var inline_js = [\n",
       "    function(Bokeh) {\n",
       "      Bokeh.set_log_level(\"info\");\n",
       "    },\n",
       "    \n",
       "    function(Bokeh) {\n",
       "      \n",
       "    },\n",
       "    function(Bokeh) {\n",
       "      console.log(\"Bokeh: injecting CSS: https://cdn.pydata.org/bokeh/release/bokeh-1.0.2.min.css\");\n",
       "      Bokeh.embed.inject_css(\"https://cdn.pydata.org/bokeh/release/bokeh-1.0.2.min.css\");\n",
       "      console.log(\"Bokeh: injecting CSS: https://cdn.pydata.org/bokeh/release/bokeh-widgets-1.0.2.min.css\");\n",
       "      Bokeh.embed.inject_css(\"https://cdn.pydata.org/bokeh/release/bokeh-widgets-1.0.2.min.css\");\n",
       "      console.log(\"Bokeh: injecting CSS: https://cdn.pydata.org/bokeh/release/bokeh-tables-1.0.2.min.css\");\n",
       "      Bokeh.embed.inject_css(\"https://cdn.pydata.org/bokeh/release/bokeh-tables-1.0.2.min.css\");\n",
       "    }\n",
       "  ];\n",
       "\n",
       "  function run_inline_js() {\n",
       "    \n",
       "    if ((root.Bokeh !== undefined) || (force === true)) {\n",
       "      for (var i = 0; i < inline_js.length; i++) {\n",
       "        inline_js[i].call(root, root.Bokeh);\n",
       "      }if (force === true) {\n",
       "        display_loaded();\n",
       "      }} else if (Date.now() < root._bokeh_timeout) {\n",
       "      setTimeout(run_inline_js, 100);\n",
       "    } else if (!root._bokeh_failed_load) {\n",
       "      console.log(\"Bokeh: BokehJS failed to load within specified timeout.\");\n",
       "      root._bokeh_failed_load = true;\n",
       "    } else if (force !== true) {\n",
       "      var cell = $(document.getElementById(\"1001\")).parents('.cell').data().cell;\n",
       "      cell.output_area.append_execute_result(NB_LOAD_WARNING)\n",
       "    }\n",
       "\n",
       "  }\n",
       "\n",
       "  if (root._bokeh_is_loading === 0) {\n",
       "    console.log(\"Bokeh: BokehJS loaded, going straight to plotting\");\n",
       "    run_inline_js();\n",
       "  } else {\n",
       "    load_libs(js_urls, function() {\n",
       "      console.log(\"Bokeh: BokehJS plotting callback run at\", now());\n",
       "      run_inline_js();\n",
       "    });\n",
       "  }\n",
       "}(window));"
      ],
      "application/vnd.bokehjs_load.v0+json": "\n(function(root) {\n  function now() {\n    return new Date();\n  }\n\n  var force = true;\n\n  if (typeof (root._bokeh_onload_callbacks) === \"undefined\" || force === true) {\n    root._bokeh_onload_callbacks = [];\n    root._bokeh_is_loading = undefined;\n  }\n\n  \n\n  \n  if (typeof (root._bokeh_timeout) === \"undefined\" || force === true) {\n    root._bokeh_timeout = Date.now() + 5000;\n    root._bokeh_failed_load = false;\n  }\n\n  var NB_LOAD_WARNING = {'data': {'text/html':\n     \"<div style='background-color: #fdd'>\\n\"+\n     \"<p>\\n\"+\n     \"BokehJS does not appear to have successfully loaded. If loading BokehJS from CDN, this \\n\"+\n     \"may be due to a slow or bad network connection. Possible fixes:\\n\"+\n     \"</p>\\n\"+\n     \"<ul>\\n\"+\n     \"<li>re-rerun `output_notebook()` to attempt to load from CDN again, or</li>\\n\"+\n     \"<li>use INLINE resources instead, as so:</li>\\n\"+\n     \"</ul>\\n\"+\n     \"<code>\\n\"+\n     \"from bokeh.resources import INLINE\\n\"+\n     \"output_notebook(resources=INLINE)\\n\"+\n     \"</code>\\n\"+\n     \"</div>\"}};\n\n  function display_loaded() {\n    var el = document.getElementById(\"1001\");\n    if (el != null) {\n      el.textContent = \"BokehJS is loading...\";\n    }\n    if (root.Bokeh !== undefined) {\n      if (el != null) {\n        el.textContent = \"BokehJS \" + root.Bokeh.version + \" successfully loaded.\";\n      }\n    } else if (Date.now() < root._bokeh_timeout) {\n      setTimeout(display_loaded, 100)\n    }\n  }\n\n\n  function run_callbacks() {\n    try {\n      root._bokeh_onload_callbacks.forEach(function(callback) { callback() });\n    }\n    finally {\n      delete root._bokeh_onload_callbacks\n    }\n    console.info(\"Bokeh: all callbacks have finished\");\n  }\n\n  function load_libs(js_urls, callback) {\n    root._bokeh_onload_callbacks.push(callback);\n    if (root._bokeh_is_loading > 0) {\n      console.log(\"Bokeh: BokehJS is being loaded, scheduling callback at\", now());\n      return null;\n    }\n    if (js_urls == null || js_urls.length === 0) {\n      run_callbacks();\n      return null;\n    }\n    console.log(\"Bokeh: BokehJS not loaded, scheduling load and callback at\", now());\n    root._bokeh_is_loading = js_urls.length;\n    for (var i = 0; i < js_urls.length; i++) {\n      var url = js_urls[i];\n      var s = document.createElement('script');\n      s.src = url;\n      s.async = false;\n      s.onreadystatechange = s.onload = function() {\n        root._bokeh_is_loading--;\n        if (root._bokeh_is_loading === 0) {\n          console.log(\"Bokeh: all BokehJS libraries loaded\");\n          run_callbacks()\n        }\n      };\n      s.onerror = function() {\n        console.warn(\"failed to load library \" + url);\n      };\n      console.log(\"Bokeh: injecting script tag for BokehJS library: \", url);\n      document.getElementsByTagName(\"head\")[0].appendChild(s);\n    }\n  };var element = document.getElementById(\"1001\");\n  if (element == null) {\n    console.log(\"Bokeh: ERROR: autoload.js configured with elementid '1001' but no matching script tag was found. \")\n    return false;\n  }\n\n  var js_urls = [\"https://cdn.pydata.org/bokeh/release/bokeh-1.0.2.min.js\", \"https://cdn.pydata.org/bokeh/release/bokeh-widgets-1.0.2.min.js\", \"https://cdn.pydata.org/bokeh/release/bokeh-tables-1.0.2.min.js\", \"https://cdn.pydata.org/bokeh/release/bokeh-gl-1.0.2.min.js\"];\n\n  var inline_js = [\n    function(Bokeh) {\n      Bokeh.set_log_level(\"info\");\n    },\n    \n    function(Bokeh) {\n      \n    },\n    function(Bokeh) {\n      console.log(\"Bokeh: injecting CSS: https://cdn.pydata.org/bokeh/release/bokeh-1.0.2.min.css\");\n      Bokeh.embed.inject_css(\"https://cdn.pydata.org/bokeh/release/bokeh-1.0.2.min.css\");\n      console.log(\"Bokeh: injecting CSS: https://cdn.pydata.org/bokeh/release/bokeh-widgets-1.0.2.min.css\");\n      Bokeh.embed.inject_css(\"https://cdn.pydata.org/bokeh/release/bokeh-widgets-1.0.2.min.css\");\n      console.log(\"Bokeh: injecting CSS: https://cdn.pydata.org/bokeh/release/bokeh-tables-1.0.2.min.css\");\n      Bokeh.embed.inject_css(\"https://cdn.pydata.org/bokeh/release/bokeh-tables-1.0.2.min.css\");\n    }\n  ];\n\n  function run_inline_js() {\n    \n    if ((root.Bokeh !== undefined) || (force === true)) {\n      for (var i = 0; i < inline_js.length; i++) {\n        inline_js[i].call(root, root.Bokeh);\n      }if (force === true) {\n        display_loaded();\n      }} else if (Date.now() < root._bokeh_timeout) {\n      setTimeout(run_inline_js, 100);\n    } else if (!root._bokeh_failed_load) {\n      console.log(\"Bokeh: BokehJS failed to load within specified timeout.\");\n      root._bokeh_failed_load = true;\n    } else if (force !== true) {\n      var cell = $(document.getElementById(\"1001\")).parents('.cell').data().cell;\n      cell.output_area.append_execute_result(NB_LOAD_WARNING)\n    }\n\n  }\n\n  if (root._bokeh_is_loading === 0) {\n    console.log(\"Bokeh: BokehJS loaded, going straight to plotting\");\n    run_inline_js();\n  } else {\n    load_libs(js_urls, function() {\n      console.log(\"Bokeh: BokehJS plotting callback run at\", now());\n      run_inline_js();\n    });\n  }\n}(window));"
     },
     "metadata": {},
     "output_type": "display_data"
    },
    {
     "ename": "NameError",
     "evalue": "name 'female' is not defined",
     "output_type": "error",
     "traceback": [
      "\u001b[1;31m---------------------------------------------------------------------------\u001b[0m",
      "\u001b[1;31mNameError\u001b[0m                                 Traceback (most recent call last)",
      "\u001b[1;32m<ipython-input-1-24297cce14b2>\u001b[0m in \u001b[0;36m<module>\u001b[1;34m\u001b[0m\n\u001b[0;32m      4\u001b[0m \u001b[0moutput_notebook\u001b[0m\u001b[1;33m(\u001b[0m\u001b[1;33m)\u001b[0m\u001b[1;33m\u001b[0m\u001b[1;33m\u001b[0m\u001b[0m\n\u001b[0;32m      5\u001b[0m \u001b[1;33m\u001b[0m\u001b[0m\n\u001b[1;32m----> 6\u001b[1;33m \u001b[0mtop_female_names\u001b[0m\u001b[1;33m=\u001b[0m\u001b[0mfemale\u001b[0m\u001b[1;33m.\u001b[0m\u001b[0mgroupby\u001b[0m\u001b[1;33m(\u001b[0m\u001b[1;34m\"AnimalName\"\u001b[0m\u001b[1;33m)\u001b[0m\u001b[1;33m[\u001b[0m\u001b[1;34m'ZipCode'\u001b[0m\u001b[1;33m]\u001b[0m\u001b[1;33m.\u001b[0m\u001b[0mcount\u001b[0m\u001b[1;33m(\u001b[0m\u001b[1;33m)\u001b[0m\u001b[1;33m.\u001b[0m\u001b[0msort_values\u001b[0m\u001b[1;33m(\u001b[0m\u001b[0mascending\u001b[0m\u001b[1;33m=\u001b[0m\u001b[1;32mFalse\u001b[0m\u001b[1;33m)\u001b[0m\u001b[1;33m.\u001b[0m\u001b[0mhead\u001b[0m\u001b[1;33m(\u001b[0m\u001b[1;33m)\u001b[0m\u001b[1;33m\u001b[0m\u001b[1;33m\u001b[0m\u001b[0m\n\u001b[0m\u001b[0;32m      7\u001b[0m \u001b[0mnames\u001b[0m\u001b[1;33m=\u001b[0m\u001b[0mtop_female_names\u001b[0m\u001b[1;33m.\u001b[0m\u001b[0mindex\u001b[0m\u001b[1;33m.\u001b[0m\u001b[0mtolist\u001b[0m\u001b[1;33m(\u001b[0m\u001b[1;33m)\u001b[0m\u001b[1;33m\u001b[0m\u001b[1;33m\u001b[0m\u001b[0m\n\u001b[0;32m      8\u001b[0m \u001b[0mcounts\u001b[0m\u001b[1;33m=\u001b[0m\u001b[0mtop_female_names\u001b[0m\u001b[1;33m.\u001b[0m\u001b[0mvalues\u001b[0m\u001b[1;33m\u001b[0m\u001b[1;33m\u001b[0m\u001b[0m\n",
      "\u001b[1;31mNameError\u001b[0m: name 'female' is not defined"
     ]
    }
   ],
   "source": [
    "from bokeh.io import show, output_notebook\n",
    "from bokeh.plotting import figure\n",
    "\n",
    "output_notebook()\n",
    "\n",
    "top_female_names=female.groupby(\"AnimalName\")['ZipCode'].count().sort_values(ascending=False).head()\n",
    "names=top_female_names.index.tolist()\n",
    "counts=top_female_names.values\n",
    "p=figure(x_range=names,title='Top Female Names')\n",
    "p.vbar(x=names,top=counts,width=.8)\n",
    "\n",
    "show(p)"
   ]
  },
  {
   "cell_type": "markdown",
   "metadata": {},
   "source": [
    "And here are the most popular female names by borough:"
   ]
  },
  {
   "cell_type": "code",
   "execution_count": null,
   "metadata": {},
   "outputs": [],
   "source": [
    "criterion=((female['Borough']=='Manhattan') | (female['Borough']=='Bronx') | (female['Borough']=='Brooklyn') | (female['Borough']=='Queens') | (female['Borough']=='Staten Island'))\n",
    "filtered_female_borough=female[criterion]\n",
    "filtered_female_borough.head()"
   ]
  },
  {
   "cell_type": "code",
   "execution_count": null,
   "metadata": {
    "collapsed": true
   },
   "outputs": [],
   "source": [
    "from bokeh.models import ColumnDataSource, FactorRange, HoverTool,Legend,LegendItem\n",
    "from math import pi\n",
    "from bokeh.palettes import small_palettes\n",
    "\n",
    "output_notebook()\n",
    "\n",
    "def top_value_count(x,n=5):\n",
    "    return x.value_counts().head(n)\n",
    "\n",
    "female_gb=filtered_female_borough.groupby('Borough')['AnimalName']\n",
    "top_female_names=female_gb.apply(top_value_count).reset_index()\n",
    "\n",
    "l=[]\n",
    "for i in range (top_female_names.shape[0]):\n",
    "    tup=(top_female_names.iloc[i,0],top_female_names.iloc[i,1])\n",
    "    l.append(tup)\n",
    "\n",
    "colors=small_palettes['Colorblind'][len(top_female_names['level_1'].unique())]\n",
    "\n",
    "names=top_female_names['level_1'].unique()\n",
    "\n",
    "colormap={i:colors[int(np.where(names==i)[0])] for i in names}\n",
    "\n",
    "colors=[colormap[x] for x in top_female_names['level_1']]\n",
    "\n",
    "source=ColumnDataSource(dict(x=l,counts=top_female_names['AnimalName'].tolist(),color=colors))\n",
    "\n",
    "tools=[\"box_select\", \"hover\", \"reset\",\"pan\",\"box_zoom\",\"wheel_zoom\"]\n",
    "tooltips=[('','@counts')]\n",
    "\n",
    "p=figure(x_range=FactorRange(*l),plot_height=500,plot_width=900,tools=tools,tooltips=tooltips)\n",
    "\n",
    "p.vbar(x='x', top='counts', source=source, width=0.9,fill_color='color',fill_alpha=.7)\n",
    "\n",
    "p.xaxis.major_label_orientation = pi/4\n",
    "p.x_range.range_padding = 0.02\n",
    "p.xgrid.grid_line_color = None\n",
    "\n",
    "\n",
    "show(p)"
   ]
  },
  {
   "cell_type": "markdown",
   "metadata": {},
   "source": [
    "Finally, you can choose a specific neighborhood to see what are the most popular female names in it:"
   ]
  },
  {
   "cell_type": "code",
   "execution_count": null,
   "metadata": {
    "collapsed": true
   },
   "outputs": [],
   "source": []
  },
  {
   "cell_type": "code",
   "execution_count": null,
   "metadata": {},
   "outputs": [],
   "source": [
    "def top_value_count(x,n=3):\n",
    "    return x.value_counts().head(n)\n",
    "\n",
    "female['AnimalName']=female['AnimalName'].str.strip()\n",
    "female_gb=female.groupby('birth_year')['AnimalName']\n",
    "female_gb.apply(top_value_count).reset_index()"
   ]
  },
  {
   "cell_type": "code",
   "execution_count": 139,
   "metadata": {},
   "outputs": [
    {
     "data": {
      "image/png": "[encoded data removed]",
      "text/plain": [
       "<matplotlib.figure.Figure at 0x18584198>"
      ]
     },
     "metadata": {},
     "output_type": "display_data"
    }
   ],
   "source": [
    "s1=df[df['AnimalName']=='LUCY'].groupby('birth_year')['AnimalName'].count()\n",
    "s2=df[df['AnimalName']=='LUNA'].groupby('birth_year')['AnimalName'].count()\n",
    "\n",
    "plt.bar(s1.index,s1,width=1,tick_label=s1.index,alpha=.3)\n",
    "plt.xticks(rotation=40)\n",
    "\n",
    "plt.bar(s2.index,s2,width=1,color='orange',alpha=.3)\n",
    "plt.legend(['Lucy','Luna'])\n",
    "plt.show()"
   ]
  },
  {
   "cell_type": "code",
   "execution_count": 158,
   "metadata": {},
   "outputs": [
    {
     "data": {
      "image/png": "[encoded data removed]",
      "text/plain": [
       "<matplotlib.figure.Figure at 0x1b0cea58>"
      ]
     },
     "metadata": {},
     "output_type": "display_data"
    }
   ],
   "source": [
    "female=female[female['birth_year']!=2017] #too little data for this year\n",
    "s1=female[female['AnimalName']=='BELLA'].groupby('birth_year')['AnimalName'].count()\n",
    "s2=female[female['AnimalName']=='LOLA'].groupby('birth_year')['AnimalName'].count()\n",
    "s3=female[female['AnimalName']=='LUCY'].groupby('birth_year')['AnimalName'].count()\n",
    "s4=female[female['AnimalName']=='LUNA'].groupby('birth_year')['AnimalName'].count()\n",
    "\n",
    "plt.plot(s1.index,s1)\n",
    "plt.plot(s2.index,s2,color='green')\n",
    "plt.plot(s3.index,s3,color='red')\n",
    "plt.plot(s4.index,s4,color='brown')\n",
    "plt.legend(['Bella','Lola','Lucy','Luna'])\n",
    "plt.show()"
   ]
  },
  {
   "cell_type": "code",
   "execution_count": null,
   "metadata": {},
   "outputs": [],
   "source": [
    "male['AnimalName']=male['AnimalName'].str.strip()\n",
    "male_gb=male.groupby('birth_year')['AnimalName']\n",
    "male_gb.apply(top_value_count).reset_index()"
   ]
  },
  {
   "cell_type": "markdown",
   "metadata": {},
   "source": [
    "I do the same for male names. First, most popular names in the whole city:"
   ]
  },
  {
   "cell_type": "code",
   "execution_count": null,
   "metadata": {
    "collapsed": true
   },
   "outputs": [],
   "source": [
    "from bokeh.io import show, output_notebook\n",
    "from bokeh.plotting import figure\n",
    "\n",
    "output_notebook()\n",
    "\n",
    "top_male_names=male.groupby(\"AnimalName\")['ZipCode'].count().sort_values(ascending=False).head()\n",
    "names=top_male_names.index.tolist()\n",
    "counts=top_male_names.values\n",
    "p=figure(x_range=names,title='Top Male Names')\n",
    "p.vbar(x=names,top=counts,width=.8)\n",
    "\n",
    "show(p)"
   ]
  },
  {
   "cell_type": "code",
   "execution_count": null,
   "metadata": {
    "collapsed": true
   },
   "outputs": [],
   "source": [
    "And the most popular male names by borough:"
   ]
  },
  {
   "cell_type": "code",
   "execution_count": null,
   "metadata": {},
   "outputs": [],
   "source": [
    "criterion=((male['Borough']=='Manhattan') | (male['Borough']=='Bronx') | (male['Borough']=='Brooklyn') | (male['Borough']=='Queens') | (male['Borough']=='Staten Island'))\n",
    "filtered_male_borough=male[criterion]\n",
    "filtered_male_borough.head()"
   ]
  },
  {
   "cell_type": "code",
   "execution_count": null,
   "metadata": {
    "collapsed": true
   },
   "outputs": [],
   "source": [
    "from bokeh.models import ColumnDataSource, FactorRange, HoverTool,Legend,LegendItem\n",
    "from math import pi\n",
    "from bokeh.palettes import small_palettes\n",
    "\n",
    "output_notebook()\n",
    "\n",
    "def top_value_count(x,n=5):\n",
    "    return x.value_counts().head(n)\n",
    "\n",
    "male_gb=filtered_male_borough.groupby('Borough')['AnimalName']\n",
    "top_male_names=male_gb.apply(top_value_count).reset_index()\n",
    "\n",
    "l=[]\n",
    "for i in range (top_male_names.shape[0]):\n",
    "    tup=(top_male_names.iloc[i,0],top_male_names.iloc[i,1])\n",
    "    l.append(tup)\n",
    "\n",
    "colors=small_palettes['Colorblind'][len(top_male_names['level_1'].unique())]\n",
    "\n",
    "names=top_male_names['level_1'].unique()\n",
    "\n",
    "colormap={i:colors[int(np.where(names==i)[0])] for i in names}\n",
    "\n",
    "colors=[colormap[x] for x in top_male_names['level_1']]\n",
    "\n",
    "source=ColumnDataSource(dict(x=l,counts=top_male_names['AnimalName'].tolist(),color=colors))\n",
    "\n",
    "tools=[\"box_select\", \"hover\", \"reset\",\"pan\",\"box_zoom\",\"wheel_zoom\"]\n",
    "tooltips=[('','@counts')]\n",
    "\n",
    "p=figure(x_range=FactorRange(*l),plot_height=500,plot_width=900,tools=tools,tooltips=tooltips)\n",
    "\n",
    "p.vbar(x='x', top='counts', source=source, width=0.9,fill_color='color',fill_alpha=.7)\n",
    "\n",
    "p.xaxis.major_label_orientation = pi/4\n",
    "p.x_range.range_padding = 0.02\n",
    "p.xgrid.grid_line_color = None\n",
    "\n",
    "show(p)"
   ]
  },
  {
   "cell_type": "markdown",
   "metadata": {},
   "source": [
    "Finally, choose a neighborhood to see what are the most popular male names in it:"
   ]
  },
  {
   "cell_type": "code",
   "execution_count": null,
   "metadata": {
    "collapsed": true
   },
   "outputs": [],
   "source": []
  },
  {
   "cell_type": "markdown",
   "metadata": {},
   "source": [
    "Let's look at the evolution of male names over time:"
   ]
  },
  {
   "cell_type": "code",
   "execution_count": 151,
   "metadata": {
    "scrolled": true
   },
   "outputs": [
    {
     "data": {
      "image/png": "[encoded data removed]",
      "text/plain": [
       "<matplotlib.figure.Figure at 0x19dafba8>"
      ]
     },
     "metadata": {},
     "output_type": "display_data"
    }
   ],
   "source": [
    "male=male[male['birth_year']!=2016] #too little data for this year\n",
    "s1=male[male['AnimalName']=='MAX'].groupby('birth_year')['AnimalName'].count()\n",
    "s2=male[male['AnimalName']=='CHARLIE'].groupby('birth_year')['AnimalName'].count()\n",
    "s3=male[male['AnimalName']=='ROCKY'].groupby('birth_year')['AnimalName'].count()\n",
    "plt.plot(s1.index,s1)\n",
    "plt.plot(s2.index,s2,color='green')\n",
    "plt.plot(s3.index,s3,color='red')\n",
    "plt.legend(['Max','Charlie','Rocky'])\n",
    "plt.show()"
   ]
  },
  {
   "cell_type": "markdown",
   "metadata": {},
   "source": [
    "I now start building a dataframe for breed weights. The result will be a dataframe with three columns: `breed_name`, `sex`, `weight` (some breeds weigh differently depending on the dog's sex).   "
   ]
  },
  {
   "cell_type": "code",
   "execution_count": null,
   "metadata": {
    "collapsed": true
   },
   "outputs": [],
   "source": [
    "#get mean weights for each NTA\n",
    "mean_weights=df.groupby('NTA')['weight'].mean()\n",
    "mean_weights=mean_weights.to_frame().reset_index()\n",
    "mean_weights.rename(columns={0:'NTA',1:'avg_weight'},inplace=True)\n",
    "mean_weights.head()\n",
    "mean_weights.info()"
   ]
  },
  {
   "cell_type": "code",
   "execution_count": null,
   "metadata": {},
   "outputs": [],
   "source": [
    "#get 75 percentile weights for each neighborhood\n",
    "def prct(x,p=75):\n",
    "    return np.percentile(x,75)\n",
    "\n",
    "percentile_75_weights_gb=df.dropna(axis=0,subset=['weight']).groupby('NTA')['weight'].apply(prct)\n",
    "percentile_75_weights_gb=percentile_75_weights_gb.to_frame().reset_index()\n",
    "\n",
    "percentile_75_weights_gb.rename(columns={'weight':'75_percentile_weight'},inplace=True)\n",
    "\n",
    "percentile_75_weights_gb.head()"
   ]
  },
  {
   "cell_type": "code",
   "execution_count": null,
   "metadata": {},
   "outputs": [],
   "source": [
    "from bokeh.plotting import figure\n",
    "from bokeh.models import GeoJSONDataSource, LinearColorMapper, ColorBar\n",
    "from bokeh.palettes import brewer\n",
    "from bokeh.io import output_notebook, show, output_file\n",
    "import geopandas as gpd\n",
    "\n",
    "palette = brewer['Greens'][9]\n",
    "palette= palette[::-1]\n",
    "\n",
    "color_mapper = LinearColorMapper(palette = palette)\n",
    "\n",
    "map_df=gpd.read_file('Neighborhood Tabulation Areas.geojson')\n",
    "map_df.rename(columns={'ntacode':'NTA'},inplace=True)\n",
    "\n",
    "merged_map=map_df.merge(mean_weights,on='NTA')\n",
    "\n",
    "merged_map=merged_map.merge(percentile_75_weights_gb,on='NTA')\n",
    "\n",
    "\n",
    "merged_map.to_file(\"nabes_weight.geojson\", driver='GeoJSON')\n",
    "gdf=gpd.read_file('nabes_weight.geojson')\n",
    "\n",
    "output_notebook()\n",
    "\n",
    "import json\n",
    "#Read data to json.\n",
    "merged_json = json.loads(gdf.to_json())\n",
    "#Convert to String like object.\n",
    "json_data = json.dumps(merged_json)\n",
    "\n",
    "geo_source = GeoJSONDataSource(geojson=json_data)\n",
    "\n",
    "tools=[\"box_select\", \"hover\", \"reset\",\"pan\",\"box_zoom\",\"wheel_zoom\"]\n",
    "tooltips=[('neighborhood','@ntaname'),('average weight','@weight{0.00} lbs')]\n",
    "\n",
    "p = figure(background_fill_color=\"lightgrey\",tools=tools,tooltips=tooltips)\n",
    "\n",
    "p.xgrid.grid_line_color = None\n",
    "p.ygrid.grid_line_color = None\n",
    "\n",
    "#Add patch renderer to figure. \n",
    "p.patches('xs','ys', source = geo_source,fill_color = {'field' :'weight', 'transform' : color_mapper},\n",
    "          line_color = 'black', line_width = 0.25, fill_alpha = 1)\n",
    "\n",
    "show(p)"
   ]
  },
  {
   "cell_type": "code",
   "execution_count": null,
   "metadata": {},
   "outputs": [],
   "source": [
    "tooltips=[('neighborhood','@ntaname'),('25% dogs heavier than','@percentile_weight{0.00} lbs')]\n",
    "\n",
    "p = figure(background_fill_color=\"lightgrey\",tools=tools,tooltips=tooltips)\n",
    "\n",
    "p.xgrid.grid_line_color = None\n",
    "p.ygrid.grid_line_color = None\n",
    "\n",
    "p.patches('xs','ys', source = geo_source,fill_color = {'field' :'percentile_weight', 'transform' : color_mapper},\n",
    "          line_color = 'black', line_width = 0.25, fill_alpha = 1)\n",
    "\n",
    "show(p)"
   ]
  }
 ],
 "metadata": {
  "kernelspec": {
   "display_name": "Python 3",
   "language": "python",
   "name": "python3"
  },
  "language_info": {
   "codemirror_mode": {
    "name": "ipython",
    "version": 3
   },
   "file_extension": ".py",
   "mimetype": "text/x-python",
   "name": "python",
   "nbconvert_exporter": "python",
   "pygments_lexer": "ipython3",
   "version": "3.7.1"
  }
 },
 "nbformat": 4,
 "nbformat_minor": 2
}
